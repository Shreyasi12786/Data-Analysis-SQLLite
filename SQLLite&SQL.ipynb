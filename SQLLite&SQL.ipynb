{
 "cells": [
  {
   "cell_type": "markdown",
   "id": "90d33354-8148-4bbb-8cd7-d0916a36c6f5",
   "metadata": {},
   "source": [
    "SQL\n",
    "1. It is a std language used to manipulate RDBMS\n",
    "   \n",
    "SQL Lite\n",
    "1. It is a serverless db engine.\n"
   ]
  },
  {
   "cell_type": "code",
   "execution_count": 3,
   "id": "220da5de-050c-4622-9b0d-ecb7ff1f5339",
   "metadata": {},
   "outputs": [],
   "source": [
    "import sqlite3\n"
   ]
  },
  {
   "cell_type": "code",
   "execution_count": 6,
   "id": "765bac71-7d39-40ba-b68b-6971a8f083a8",
   "metadata": {},
   "outputs": [],
   "source": [
    "#Connect to a sqllite db\n",
    "## Create db\n",
    "connection = sqlite3.connect('example.db')\n",
    "\n"
   ]
  },
  {
   "cell_type": "code",
   "execution_count": 7,
   "id": "4d4145c3-2a67-4fde-8b38-901a856fceab",
   "metadata": {},
   "outputs": [],
   "source": [
    "##cursor object\n",
    "cursor = connection.cursor()\n",
    "\n"
   ]
  },
  {
   "cell_type": "code",
   "execution_count": 8,
   "id": "6a8ab612-413d-4ca2-925b-540735db7430",
   "metadata": {},
   "outputs": [],
   "source": [
    "## Creating table inside created DB\n",
    "cursor.execute('''\n",
    "Create Table If Not Exists Employee(\n",
    "            id Integer Primary Key,\n",
    "            name Text Not Null,\n",
    "            age Integer,\n",
    "            department Text\n",
    "            \n",
    ")\n",
    "''')\n",
    "## commit the changes\n",
    "connection.commit()\n"
   ]
  },
  {
   "cell_type": "code",
   "execution_count": 9,
   "id": "71847537-195f-4876-a994-31daeeadedb5",
   "metadata": {},
   "outputs": [
    {
     "data": {
      "text/plain": [
       "<sqlite3.Cursor at 0x1cd2055b140>"
      ]
     },
     "execution_count": 9,
     "metadata": {},
     "output_type": "execute_result"
    }
   ],
   "source": [
    "cursor.execute('''\n",
    "Select * from Employee\n",
    "''')\n"
   ]
  },
  {
   "cell_type": "code",
   "execution_count": 11,
   "id": "b3e89415-86c3-4db7-a8bf-d555b9ef8c89",
   "metadata": {},
   "outputs": [],
   "source": [
    "# insert data in Db table\n",
    "cursor.execute('''\n",
    "    Insert Into Employee(name,age,department)\n",
    "        values('Krish',32,'Data Scientist')\n",
    "        \n",
    "    \n",
    "''')\n",
    "\n",
    "cursor.execute('''\n",
    "    Insert Into Employee(name,age,department)\n",
    "        values('Shreyasi',23,'ML engineer')\n",
    "        \n",
    "    \n",
    "''')\n",
    "\n",
    "cursor.execute('''\n",
    "    Insert Into Employee(name,age,department)\n",
    "        values('Rajat',23,'Data Engineer')\n",
    "        \n",
    "    \n",
    "''')\n",
    "\n",
    "connection.commit()\n"
   ]
  },
  {
   "cell_type": "code",
   "execution_count": 15,
   "id": "6f404056-80c3-4c08-90ae-c1936673af01",
   "metadata": {},
   "outputs": [
    {
     "name": "stdout",
     "output_type": "stream",
     "text": [
      "(1, 'Krish', 32, 'Data Scientist')\n",
      "(2, 'Shreyasi', 23, 'ML engineer')\n",
      "(3, 'Rajat', 23, 'Data Engineer')\n"
     ]
    }
   ],
   "source": [
    "##Querying the data from sqllite3\n",
    "cursor.execute('''\n",
    "    Select * from Employee\n",
    "''')\n",
    "\n",
    "rows = cursor.fetchall()\n",
    "for row in rows:\n",
    "    print(row)\n"
   ]
  },
  {
   "cell_type": "code",
   "execution_count": 16,
   "id": "183ae89b-bd7e-4477-a108-575f0559dd74",
   "metadata": {},
   "outputs": [],
   "source": [
    "#Update data in table\n",
    "cursor.execute('''\n",
    "UPDATE Employee\n",
    "Set age = 34\n",
    "where name = 'Krish'\n",
    "''')\n",
    "connection.commit()"
   ]
  },
  {
   "cell_type": "code",
   "execution_count": 17,
   "id": "b92c3096-d488-4cf2-8a80-237ead4c99da",
   "metadata": {},
   "outputs": [
    {
     "name": "stdout",
     "output_type": "stream",
     "text": [
      "(1, 'Krish', 34, 'Data Scientist')\n",
      "(2, 'Shreyasi', 23, 'ML engineer')\n",
      "(3, 'Rajat', 23, 'Data Engineer')\n"
     ]
    }
   ],
   "source": [
    "cursor.execute('''\n",
    "    Select * from Employee\n",
    "''')\n",
    "\n",
    "rows = cursor.fetchall()\n",
    "for row in rows:\n",
    "    print(row)\n"
   ]
  },
  {
   "cell_type": "code",
   "execution_count": 18,
   "id": "63e676e9-c4d3-4d3a-99fc-be14a189836c",
   "metadata": {},
   "outputs": [],
   "source": [
    "# delete the data from the table\n",
    "cursor.execute('''\n",
    "DELETE from Employee\n",
    "where name = 'Rajat'\n",
    "''')\n",
    "connection.commit()"
   ]
  },
  {
   "cell_type": "code",
   "execution_count": 19,
   "id": "3996a546-281d-4b7f-8b32-bd024e55b589",
   "metadata": {},
   "outputs": [
    {
     "name": "stdout",
     "output_type": "stream",
     "text": [
      "(1, 'Krish', 34, 'Data Scientist')\n",
      "(2, 'Shreyasi', 23, 'ML engineer')\n"
     ]
    }
   ],
   "source": [
    "cursor.execute('''\n",
    "    Select * from Employee\n",
    "''')\n",
    "\n",
    "rows = cursor.fetchall()\n",
    "for row in rows:\n",
    "    print(row)\n"
   ]
  },
  {
   "cell_type": "code",
   "execution_count": 20,
   "id": "9d7cd2b9-d853-46be-9f91-050c6ea9c810",
   "metadata": {},
   "outputs": [],
   "source": [
    "connection.close()\n"
   ]
  },
  {
   "cell_type": "code",
   "execution_count": null,
   "id": "4c02c373-41fd-4236-9f90-ce2c665f591c",
   "metadata": {},
   "outputs": [],
   "source": []
  }
 ],
 "metadata": {
  "kernelspec": {
   "display_name": "Python 3 (ipykernel)",
   "language": "python",
   "name": "python3"
  },
  "language_info": {
   "codemirror_mode": {
    "name": "ipython",
    "version": 3
   },
   "file_extension": ".py",
   "mimetype": "text/x-python",
   "name": "python",
   "nbconvert_exporter": "python",
   "pygments_lexer": "ipython3",
   "version": "3.10.10"
  }
 },
 "nbformat": 4,
 "nbformat_minor": 5
}
