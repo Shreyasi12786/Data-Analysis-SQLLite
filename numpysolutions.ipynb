{
 "cells": [
  {
   "cell_type": "markdown",
   "id": "ea02cb7c",
   "metadata": {},
   "source": [
    "# Module: NumPy Assignments\n",
    "## Lesson: NumPy\n",
    "### Assignment 1: Array Creation and Manipulation\n",
    "\n",
    "1. Create a NumPy array of shape (5, 5) filled with random integers between 1 and 20. Replace all the elements in the third column with 1."
   ]
  },
  {
   "cell_type": "code",
   "execution_count": 1,
   "id": "1f519e6e",
   "metadata": {},
   "outputs": [
    {
     "name": "stdout",
     "output_type": "stream",
     "text": [
      "Original array:\n",
      "[[17 10 18 17 20]\n",
      " [ 5 19  1 15  7]\n",
      " [13  4 12  7 15]\n",
      " [ 2 14 18  9  7]\n",
      " [ 6  1 10 17  5]]\n",
      "Modified array:\n",
      "[[17 10  1 17 20]\n",
      " [ 5 19  1 15  7]\n",
      " [13  4  1  7 15]\n",
      " [ 2 14  1  9  7]\n",
      " [ 6  1  1 17  5]]\n"
     ]
    }
   ],
   "source": [
    "import numpy as np\n",
    "\n",
    "# Create a NumPy array of shape (5, 5) filled with random integers\n",
    "array = np.random.randint(1, 21, size=(5, 5))\n",
    "print(\"Original array:\")\n",
    "print(array)\n",
    "\n",
    "# Replace all the elements in the third column with 1\n",
    "array[:, 2] = 1\n",
    "print(\"Modified array:\")\n",
    "print(array)"
   ]
  },
  {
   "cell_type": "markdown",
   "id": "6dac3844",
   "metadata": {},
   "source": [
    "2. Create a NumPy array of shape (4, 4) with values from 1 to 16. Replace the diagonal elements with 0."
   ]
  },
  {
   "cell_type": "code",
   "execution_count": 2,
   "id": "7cceff0f",
   "metadata": {},
   "outputs": [
    {
     "name": "stdout",
     "output_type": "stream",
     "text": [
      "Original array:\n",
      "[[ 1  2  3  4]\n",
      " [ 5  6  7  8]\n",
      " [ 9 10 11 12]\n",
      " [13 14 15 16]]\n",
      "Modified array:\n",
      "[[ 0  2  3  4]\n",
      " [ 5  0  7  8]\n",
      " [ 9 10  0 12]\n",
      " [13 14 15  0]]\n"
     ]
    }
   ],
   "source": [
    "# Create a NumPy array of shape (4, 4) with values from 1 to 16\n",
    "array = np.arange(1, 17).reshape((4, 4))\n",
    "print(\"Original array:\")\n",
    "print(array)\n",
    "\n",
    "# Replace the diagonal elements with 0\n",
    "np.fill_diagonal(array, 0)\n",
    "print(\"Modified array:\")\n",
    "print(array)"
   ]
  },
  {
   "cell_type": "markdown",
   "id": "873b2a70",
   "metadata": {},
   "source": [
    "### Assignment 2: Array Indexing and Slicing\n",
    "\n",
    "1. Create a NumPy array of shape (6, 6) with values from 1 to 36. Extract the sub-array consisting of the 3rd to 5th rows and 2nd to 4th columns."
   ]
  },
  {
   "cell_type": "code",
   "execution_count": 3,
   "id": "df73934d",
   "metadata": {},
   "outputs": [
    {
     "name": "stdout",
     "output_type": "stream",
     "text": [
      "Original array:\n",
      "[[ 1  2  3  4  5  6]\n",
      " [ 7  8  9 10 11 12]\n",
      " [13 14 15 16 17 18]\n",
      " [19 20 21 22 23 24]\n",
      " [25 26 27 28 29 30]\n",
      " [31 32 33 34 35 36]]\n",
      "Sub-array:\n",
      "[[14 15 16]\n",
      " [20 21 22]\n",
      " [26 27 28]]\n"
     ]
    }
   ],
   "source": [
    "# Create a NumPy array of shape (6, 6) with values from 1 to 36\n",
    "array = np.arange(1, 37).reshape((6, 6))\n",
    "print(\"Original array:\")\n",
    "print(array)\n",
    "\n",
    "# Extract the sub-array\n",
    "sub_array = array[2:5, 1:4]\n",
    "print(\"Sub-array:\")\n",
    "print(sub_array)"
   ]
  },
  {
   "cell_type": "markdown",
   "id": "080b714f",
   "metadata": {},
   "source": [
    "2. Create a NumPy array of shape (5, 5) with random integers. Extract the elements on the border."
   ]
  },
  {
   "cell_type": "code",
   "execution_count": 4,
   "id": "a18978ed",
   "metadata": {},
   "outputs": [
    {
     "name": "stdout",
     "output_type": "stream",
     "text": [
      "Original array:\n",
      "[[10 20 19 17 15]\n",
      " [ 5 18  5 14  5]\n",
      " [ 3  5 13 15  8]\n",
      " [ 6 10 10  8  9]\n",
      " [10  8  1  9 17]]\n",
      "Border elements:\n",
      "[10 20 19 17 15 10  8  1  9 17  5  3  6  5  8  9]\n"
     ]
    }
   ],
   "source": [
    "# Create a NumPy array of shape (5, 5) with random integers\n",
    "array = np.random.randint(1, 21, size=(5, 5))\n",
    "print(\"Original array:\")\n",
    "print(array)\n",
    "\n",
    "# Extract the elements on the border\n",
    "border_elements = np.concatenate((array[0, :], array[-1, :], array[1:-1, 0], array[1:-1, -1]))\n",
    "print(\"Border elements:\")\n",
    "print(border_elements)"
   ]
  },
  {
   "cell_type": "markdown",
   "id": "3848472c",
   "metadata": {},
   "source": [
    "### Assignment 3: Array Operations\n",
    "\n",
    "1. Create two NumPy arrays of shape (3, 4) filled with random integers. Perform element-wise addition, subtraction, multiplication, and division."
   ]
  },
  {
   "cell_type": "code",
   "execution_count": 5,
   "id": "f2040f3a",
   "metadata": {},
   "outputs": [
    {
     "name": "stdout",
     "output_type": "stream",
     "text": [
      "Array 1:\n",
      "[[ 1  4  4 10]\n",
      " [ 7  2  6  4]\n",
      " [ 1  9 10  9]]\n",
      "Array 2:\n",
      "[[10  4  2  3]\n",
      " [10 10  3 10]\n",
      " [ 2  4  3  6]]\n",
      "Element-wise addition:\n",
      "[[11  8  6 13]\n",
      " [17 12  9 14]\n",
      " [ 3 13 13 15]]\n",
      "Element-wise subtraction:\n",
      "[[-9  0  2  7]\n",
      " [-3 -8  3 -6]\n",
      " [-1  5  7  3]]\n",
      "Element-wise multiplication:\n",
      "[[10 16  8 30]\n",
      " [70 20 18 40]\n",
      " [ 2 36 30 54]]\n",
      "Element-wise division:\n",
      "[[0.1        1.         2.         3.33333333]\n",
      " [0.7        0.2        2.         0.4       ]\n",
      " [0.5        2.25       3.33333333 1.5       ]]\n"
     ]
    }
   ],
   "source": [
    "# Create two NumPy arrays of shape (3, 4) filled with random integers\n",
    "array1 = np.random.randint(1, 11, size=(3, 4))\n",
    "array2 = np.random.randint(1, 11, size=(3, 4))\n",
    "print(\"Array 1:\")\n",
    "print(array1)\n",
    "print(\"Array 2:\")\n",
    "print(array2)\n",
    "\n",
    "# Perform element-wise operations\n",
    "addition = array1 + array2\n",
    "subtraction = array1 - array2\n",
    "multiplication = array1 * array2\n",
    "division = array1 / array2\n",
    "\n",
    "print(\"Element-wise addition:\")\n",
    "print(addition)\n",
    "print(\"Element-wise subtraction:\")\n",
    "print(subtraction)\n",
    "print(\"Element-wise multiplication:\")\n",
    "print(multiplication)\n",
    "print(\"Element-wise division:\")\n",
    "print(division)"
   ]
  },
  {
   "cell_type": "markdown",
   "id": "833b3216",
   "metadata": {},
   "source": [
    "2. Create a NumPy array of shape (4, 4) with values from 1 to 16. Compute the row-wise and column-wise sum."
   ]
  },
  {
   "cell_type": "code",
   "execution_count": 6,
   "id": "ba2f0f39",
   "metadata": {},
   "outputs": [
    {
     "name": "stdout",
     "output_type": "stream",
     "text": [
      "Original array:\n",
      "[[ 1  2  3  4]\n",
      " [ 5  6  7  8]\n",
      " [ 9 10 11 12]\n",
      " [13 14 15 16]]\n",
      "Row-wise sum:\n",
      "[10 26 42 58]\n",
      "Column-wise sum:\n",
      "[28 32 36 40]\n"
     ]
    }
   ],
   "source": [
    "# Create a NumPy array of shape (4, 4) with values from 1 to 16\n",
    "array = np.arange(1, 17).reshape((4, 4))\n",
    "print(\"Original array:\")\n",
    "print(array)\n",
    "\n",
    "# Compute the row-wise and column-wise sum\n",
    "row_sum = np.sum(array, axis=1)\n",
    "column_sum = np.sum(array, axis=0)\n",
    "\n",
    "print(\"Row-wise sum:\")\n",
    "print(row_sum)\n",
    "print(\"Column-wise sum:\")\n",
    "print(column_sum)"
   ]
  },
  {
   "cell_type": "markdown",
   "id": "34736c04",
   "metadata": {},
   "source": [
    "### Assignment 4: Statistical Operations\n",
    "\n",
    "1. Create a NumPy array of shape (5, 5) filled with random integers. Compute the mean, median, standard deviation, and variance of the array."
   ]
  },
  {
   "cell_type": "code",
   "execution_count": 7,
   "id": "bcf5b3cd",
   "metadata": {},
   "outputs": [
    {
     "name": "stdout",
     "output_type": "stream",
     "text": [
      "Original array:\n",
      "[[14  4  2 14  5]\n",
      " [ 9  8 18 15  9]\n",
      " [ 1  6 13 16  9]\n",
      " [13  3  1  5  8]\n",
      " [ 3 12  1 17  8]]\n",
      "Mean: 8.56\n",
      "Median: 8.0\n",
      "Standard Deviation: 5.284543499679041\n",
      "Variance: 27.926399999999997\n"
     ]
    }
   ],
   "source": [
    "# Create a NumPy array of shape (5, 5) filled with random integers\n",
    "array = np.random.randint(1, 21, size=(5, 5))\n",
    "print(\"Original array:\")\n",
    "print(array)\n",
    "\n",
    "# Compute the statistical values\n",
    "mean = np.mean(array)\n",
    "median = np.median(array)\n",
    "std_dev = np.std(array)\n",
    "variance = np.var(array)\n",
    "\n",
    "print(\"Mean:\", mean)\n",
    "print(\"Median:\", median)\n",
    "print(\"Standard Deviation:\", std_dev)\n",
    "print(\"Variance:\", variance)"
   ]
  },
  {
   "cell_type": "markdown",
   "id": "4c1ec7c1",
   "metadata": {},
   "source": [
    "2. Create a NumPy array of shape (3, 3) with values from 1 to 9. Normalize the array (i.e., scale the values to have a mean of 0 and a standard deviation of 1)."
   ]
  },
  {
   "cell_type": "code",
   "execution_count": 8,
   "id": "727b99c2",
   "metadata": {},
   "outputs": [
    {
     "name": "stdout",
     "output_type": "stream",
     "text": [
      "Original array:\n",
      "[[1 2 3]\n",
      " [4 5 6]\n",
      " [7 8 9]]\n",
      "Normalized array:\n",
      "[[-1.54919334 -1.161895   -0.77459667]\n",
      " [-0.38729833  0.          0.38729833]\n",
      " [ 0.77459667  1.161895    1.54919334]]\n"
     ]
    }
   ],
   "source": [
    "# Create a NumPy array of shape (3, 3) with values from 1 to 9\n",
    "array = np.arange(1, 10).reshape((3, 3))\n",
    "print(\"Original array:\")\n",
    "print(array)\n",
    "\n",
    "# Normalize the array\n",
    "mean = np.mean(array)\n",
    "std_dev = np.std(array)\n",
    "normalized_array = (array - mean) / std_dev\n",
    "\n",
    "print(\"Normalized array:\")\n",
    "print(normalized_array)"
   ]
  },
  {
   "cell_type": "markdown",
   "id": "06f03c1d",
   "metadata": {},
   "source": [
    "### Assignment 5: Broadcasting\n",
    "\n",
    "1. Create a NumPy array of shape (3, 3) filled with random integers. Add a 1D array of shape (3,) to each row of the 2D array using broadcasting."
   ]
  },
  {
   "cell_type": "code",
   "execution_count": 9,
   "id": "8e7a8c85",
   "metadata": {},
   "outputs": [
    {
     "name": "stdout",
     "output_type": "stream",
     "text": [
      "Original array:\n",
      "[[ 5 10  8]\n",
      " [ 6 10  8]\n",
      " [ 4  6  3]]\n",
      "1D array:\n",
      "[9 1 9]\n",
      "Resulting array:\n",
      "[[14 11 17]\n",
      " [15 11 17]\n",
      " [13  7 12]]\n"
     ]
    }
   ],
   "source": [
    "# Create a NumPy array of shape (3, 3) filled with random integers\n",
    "array = np.random.randint(1, 11, size=(3, 3))\n",
    "row_array = np.random.randint(1, 11, size=(3,))\n",
    "print(\"Original array:\")\n",
    "print(array)\n",
    "print(\"1D array:\")\n",
    "print(row_array)\n",
    "\n",
    "# Add the 1D array to each row of the 2D array using broadcasting\n",
    "result = array + row_array\n",
    "print(\"Resulting array:\")\n",
    "print(result)"
   ]
  },
  {
   "cell_type": "markdown",
   "id": "9597380a",
   "metadata": {},
   "source": [
    "2. Create a NumPy array of shape (4, 4) filled with random integers. Subtract a 1D array of shape (4,) from each column of the 2D array using broadcasting."
   ]
  },
  {
   "cell_type": "code",
   "execution_count": 10,
   "id": "d3f35066",
   "metadata": {},
   "outputs": [
    {
     "name": "stdout",
     "output_type": "stream",
     "text": [
      "Original array:\n",
      "[[ 1  8  8  3]\n",
      " [ 7  7 10  2]\n",
      " [ 4  6  4  4]\n",
      " [ 4  4  3  3]]\n",
      "1D array:\n",
      "[5 6 8 4]\n",
      "Resulting array:\n",
      "[[-4  3  3 -2]\n",
      " [ 1  1  4 -4]\n",
      " [-4 -2 -4 -4]\n",
      " [ 0  0 -1 -1]]\n"
     ]
    }
   ],
   "source": [
    "# Create a NumPy array of shape (4, 4) filled with random integers\n",
    "array = np.random.randint(1, 11, size=(4, 4))\n",
    "column_array = np.random.randint(1, 11, size=(4,))\n",
    "print(\"Original array:\")\n",
    "print(array)\n",
    "print(\"1D array:\")\n",
    "print(column_array)\n",
    "\n",
    "# Subtract the 1D array from each column of the 2D array using broadcasting\n",
    "result = array - column_array[:, np.newaxis]\n",
    "print(\"Resulting array:\")\n",
    "print(result)"
   ]
  },
  {
   "cell_type": "markdown",
   "id": "390a69b7",
   "metadata": {},
   "source": [
    "### Assignment 6: Linear Algebra\n",
    "\n",
    "1. Create a NumPy array of shape (3, 3) representing a matrix. Compute its determinant, inverse, and eigenvalues."
   ]
  },
  {
   "cell_type": "code",
   "execution_count": 11,
   "id": "3040ec15",
   "metadata": {},
   "outputs": [
    {
     "name": "stdout",
     "output_type": "stream",
     "text": [
      "Original matrix:\n",
      "[[10 10  6]\n",
      " [ 3  7  4]\n",
      " [ 4  9  5]]\n",
      "Determinant: -6.000000000000008\n",
      "Inverse:\n",
      "[[ 0.16666667 -0.66666667  0.33333333]\n",
      " [-0.16666667 -4.33333333  3.66666667]\n",
      " [ 0.16666667  8.33333333 -6.66666667]]\n",
      "Eigenvalues: [18.46156823  3.62801235 -0.08958059]\n"
     ]
    }
   ],
   "source": [
    "# Create a NumPy array of shape (3, 3) representing a matrix\n",
    "matrix = np.random.randint(1, 11, size=(3, 3))\n",
    "print(\"Original matrix:\")\n",
    "print(matrix)\n",
    "\n",
    "# Compute the determinant\n",
    "determinant = np.linalg.det(matrix)\n",
    "print(\"Determinant:\", determinant)\n",
    "\n",
    "# Compute the inverse\n",
    "inverse = np.linalg.inv(matrix)\n",
    "print(\"Inverse:\")\n",
    "print(inverse)\n",
    "\n",
    "# Compute the eigenvalues\n",
    "eigenvalues = np.linalg.eigvals(matrix)\n",
    "print(\"Eigenvalues:\", eigenvalues)"
   ]
  },
  {
   "cell_type": "markdown",
   "id": "e618a1ee",
   "metadata": {},
   "source": [
    "2. Create two NumPy arrays of shape (2, 3) and (3, 2). Perform matrix multiplication on these arrays."
   ]
  },
  {
   "cell_type": "code",
   "execution_count": 12,
   "id": "94f2d174",
   "metadata": {},
   "outputs": [
    {
     "name": "stdout",
     "output_type": "stream",
     "text": [
      "Array 1:\n",
      "[[2 7 1]\n",
      " [5 8 4]]\n",
      "Array 2:\n",
      "[[10  2]\n",
      " [ 8  1]\n",
      " [ 8  9]]\n",
      "Matrix multiplication result:\n",
      "[[ 84  20]\n",
      " [146  54]]\n"
     ]
    }
   ],
   "source": [
    "# Create two NumPy arrays of shape (2, 3) and (3, 2)\n",
    "array1 = np.random.randint(1, 11, size=(2, 3))\n",
    "array2 = np.random.randint(1, 11, size=(3, 2))\n",
    "print(\"Array 1:\")\n",
    "print(array1)\n",
    "print(\"Array 2:\")\n",
    "print(array2)\n",
    "\n",
    "# Perform matrix multiplication\n",
    "result = np.dot(array1, array2)\n",
    "print(\"Matrix multiplication result:\")\n",
    "print(result)"
   ]
  },
  {
   "cell_type": "markdown",
   "id": "b0dcb268",
   "metadata": {},
   "source": [
    "### Assignment 7: Advanced Array Manipulation\n",
    "\n",
    "1. Create a NumPy array of shape (3, 3) with values from 1 to 9. Reshape the array to shape (1, 9) and then to shape (9, 1)."
   ]
  },
  {
   "cell_type": "code",
   "execution_count": 13,
   "id": "c8eb2a43",
   "metadata": {},
   "outputs": [
    {
     "name": "stdout",
     "output_type": "stream",
     "text": [
      "Original array:\n",
      "[[1 2 3]\n",
      " [4 5 6]\n",
      " [7 8 9]]\n",
      "Reshaped array (1, 9):\n",
      "[[1 2 3 4 5 6 7 8 9]]\n",
      "Reshaped array (9, 1):\n",
      "[[1]\n",
      " [2]\n",
      " [3]\n",
      " [4]\n",
      " [5]\n",
      " [6]\n",
      " [7]\n",
      " [8]\n",
      " [9]]\n"
     ]
    }
   ],
   "source": [
    "# Create a NumPy array of shape (3, 3) with values from 1 to 9\n",
    "array = np.arange(1, 10).reshape((3, 3))\n",
    "print(\"Original array:\")\n",
    "print(array)\n",
    "\n",
    "# Reshape the array to shape (1, 9)\n",
    "reshaped_array_1 = array.reshape((1, 9))\n",
    "print(\"Reshaped array (1, 9):\")\n",
    "print(reshaped_array_1)\n",
    "\n",
    "# Reshape the array to shape (9, 1)\n",
    "reshaped_array_2 = reshaped_array_1.reshape((9, 1))\n",
    "print(\"Reshaped array (9, 1):\")\n",
    "print(reshaped_array_2)"
   ]
  },
  {
   "cell_type": "markdown",
   "id": "1f2fb417",
   "metadata": {},
   "source": [
    "2. Create a NumPy array of shape (5, 5) filled with random integers. Flatten the array and then reshape it back to (5, 5)."
   ]
  },
  {
   "cell_type": "code",
   "execution_count": 14,
   "id": "2b135293",
   "metadata": {},
   "outputs": [
    {
     "name": "stdout",
     "output_type": "stream",
     "text": [
      "Original array:\n",
      "[[10  3 13  5 20]\n",
      " [ 9  8  7  9 17]\n",
      " [ 1  9 14  1  6]\n",
      " [16 11 10  3  6]\n",
      " [ 7  8 16  4 11]]\n",
      "Flattened array:\n",
      "[10  3 13  5 20  9  8  7  9 17  1  9 14  1  6 16 11 10  3  6  7  8 16  4\n",
      " 11]\n",
      "Reshaped array:\n",
      "[[10  3 13  5 20]\n",
      " [ 9  8  7  9 17]\n",
      " [ 1  9 14  1  6]\n",
      " [16 11 10  3  6]\n",
      " [ 7  8 16  4 11]]\n"
     ]
    }
   ],
   "source": [
    "# Create a NumPy array of shape (5, 5) filled with random integers\n",
    "array = np.random.randint(1, 21, size=(5, 5))\n",
    "print(\"Original array:\")\n",
    "print(array)\n",
    "\n",
    "# Flatten the array\n",
    "flattened_array = array.flatten()\n",
    "print(\"Flattened array:\")\n",
    "print(flattened_array)\n",
    "\n",
    "# Reshape the array back to (5, 5)\n",
    "reshaped_array = flattened_array.reshape((5, 5))\n",
    "print(\"Reshaped array:\")\n",
    "print(reshaped_array)"
   ]
  },
  {
   "cell_type": "markdown",
   "id": "e9861cb0",
   "metadata": {},
   "source": [
    "### Assignment 8: Fancy Indexing and Boolean Indexing\n",
    "\n",
    "1. Create a NumPy array of shape (5, 5) filled with random integers. Use fancy indexing to extract the elements at the corners of the array."
   ]
  },
  {
   "cell_type": "code",
   "execution_count": 15,
   "id": "060a0e26",
   "metadata": {},
   "outputs": [
    {
     "name": "stdout",
     "output_type": "stream",
     "text": [
      "Original array:\n",
      "[[19  2 19 20 15]\n",
      " [ 1 18 14  4 16]\n",
      " [ 6  6  2 12 15]\n",
      " [ 3  1  7  7  1]\n",
      " [ 5 13 17 16 17]]\n",
      "Corner elements:\n",
      "[19 15  5 17]\n"
     ]
    }
   ],
   "source": [
    "# Create a NumPy array of shape (5, 5) filled with random integers\n",
    "array = np.random.randint(1, 21, size=(5, 5))\n",
    "print(\"Original array:\")\n",
    "print(array)\n",
    "\n",
    "# Use fancy indexing to extract the elements at the corners of the array\n",
    "corners = array[[0, 0, -1, -1], [0, -1, 0, -1]]\n",
    "print(\"Corner elements:\")\n",
    "print(corners)"
   ]
  },
  {
   "cell_type": "markdown",
   "id": "c8399868",
   "metadata": {},
   "source": [
    "2. Create a NumPy array of shape (4, 4) filled with random integers. Use boolean indexing to set all elements greater than 10 to 10."
   ]
  },
  {
   "cell_type": "code",
   "execution_count": 16,
   "id": "9f5e1d11",
   "metadata": {},
   "outputs": [
    {
     "name": "stdout",
     "output_type": "stream",
     "text": [
      "Original array:\n",
      "[[ 1  7 16 15]\n",
      " [14  4  3 17]\n",
      " [16 16  6 19]\n",
      " [ 8  2 12  7]]\n",
      "Modified array:\n",
      "[[ 1  7 10 10]\n",
      " [10  4  3 10]\n",
      " [10 10  6 10]\n",
      " [ 8  2 10  7]]\n"
     ]
    }
   ],
   "source": [
    "# Create a NumPy array of shape (4, 4) filled with random integers\n",
    "array = np.random.randint(1, 21, size=(4, 4))\n",
    "print(\"Original array:\")\n",
    "print(array)\n",
    "\n",
    "# Use boolean indexing to set all elements greater than 10 to 10\n",
    "array[array > 10] = 10\n",
    "print(\"Modified array:\")\n",
    "print(array)"
   ]
  },
  {
   "cell_type": "markdown",
   "id": "3c21aca4",
   "metadata": {},
   "source": [
    "### Assignment 9: Structured Arrays\n",
    "\n",
    "1. Create a structured array with fields 'name' (string), 'age' (integer), and 'weight' (float). Add some data and sort the array by age."
   ]
  },
  {
   "cell_type": "code",
   "execution_count": 17,
   "id": "385b5767",
   "metadata": {},
   "outputs": [
    {
     "name": "stdout",
     "output_type": "stream",
     "text": [
      "Original array:\n",
      "[('Alice', 25, 55.5) ('Bob', 30, 85.3) ('Charlie', 20, 65.2)]\n",
      "Sorted array by age:\n",
      "[('Charlie', 20, 65.2) ('Alice', 25, 55.5) ('Bob', 30, 85.3)]\n"
     ]
    }
   ],
   "source": [
    "# Create a structured array with fields 'name', 'age', and 'weight'\n",
    "data_type = [('name', 'U10'), ('age', 'i4'), ('weight', 'f4')]\n",
    "data = np.array([('Alice', 25, 55.5), ('Bob', 30, 85.3), ('Charlie', 20, 65.2)], dtype=data_type)\n",
    "print(\"Original array:\")\n",
    "print(data)\n",
    "\n",
    "# Sort the array by age\n",
    "sorted_data = np.sort(data, order='age')\n",
    "print(\"Sorted array by age:\")\n",
    "print(sorted_data)"
   ]
  },
  {
   "cell_type": "markdown",
   "id": "fe87f15f",
   "metadata": {},
   "source": [
    "2. Create a structured array with fields 'x' and 'y' (both integers). Add some data and compute the Euclidean distance between each pair of points."
   ]
  },
  {
   "cell_type": "code",
   "execution_count": 18,
   "id": "d4b04f8f",
   "metadata": {},
   "outputs": [
    {
     "name": "stdout",
     "output_type": "stream",
     "text": [
      "Original array:\n",
      "[(1, 2) (3, 4) (5, 6)]\n",
      "Euclidean distances:\n",
      "[[0.         2.82842712 5.65685425]\n",
      " [2.82842712 0.         2.82842712]\n",
      " [5.65685425 2.82842712 0.        ]]\n"
     ]
    }
   ],
   "source": [
    "# Create a structured array with fields 'x' and 'y'\n",
    "data_type = [('x', 'i4'), ('y', 'i4')]\n",
    "data = np.array([(1, 2), (3, 4), (5, 6)], dtype=data_type)\n",
    "print(\"Original array:\")\n",
    "print(data)\n",
    "\n",
    "# Compute the Euclidean distance between each pair of points\n",
    "distances = np.sqrt((data['x'][:, np.newaxis] - data['x'])**2 + (data['y'][:, np.newaxis] - data['y'])**2)\n",
    "print(\"Euclidean distances:\")\n",
    "print(distances)"
   ]
  },
  {
   "cell_type": "markdown",
   "id": "5734636a",
   "metadata": {},
   "source": [
    "### Assignment 10: Masked Arrays\n",
    "\n",
    "1. Create a masked array of shape (4, 4) with random integers and mask the elements greater than 10. Compute the sum of the unmasked elements."
   ]
  },
  {
   "cell_type": "code",
   "execution_count": 19,
   "id": "a4043a86",
   "metadata": {},
   "outputs": [
    {
     "name": "stdout",
     "output_type": "stream",
     "text": [
      "Original array:\n",
      "[[ 5 14 18 19]\n",
      " [ 1  6 17  7]\n",
      " [20 11  7 11]\n",
      " [14 12 16 17]]\n",
      "Masked array:\n",
      "[[5 -- -- --]\n",
      " [1 6 -- 7]\n",
      " [-- -- 7 --]\n",
      " [-- -- -- --]]\n",
      "Sum of unmasked elements: 26\n"
     ]
    }
   ],
   "source": [
    "import numpy.ma as ma\n",
    "\n",
    "# Create a masked array of shape (4, 4) with random integers\n",
    "array = np.random.randint(1, 21, size=(4, 4))\n",
    "masked_array = ma.masked_greater(array, 10)\n",
    "print(\"Original array:\")\n",
    "print(array)\n",
    "print(\"Masked array:\")\n",
    "print(masked_array)\n",
    "\n",
    "# Compute the sum of the unmasked elements\n",
    "sum_unmasked = masked_array.sum()\n",
    "print(\"Sum of unmasked elements:\", sum_unmasked)"
   ]
  },
  {
   "cell_type": "markdown",
   "id": "660c2f6c",
   "metadata": {},
   "source": [
    "2. Create a masked array of shape (3, 3) with random integers and mask the diagonal elements. Replace the masked elements with the mean of the unmasked elements."
   ]
  },
  {
   "cell_type": "code",
   "execution_count": 20,
   "id": "64775348",
   "metadata": {},
   "outputs": [
    {
     "name": "stdout",
     "output_type": "stream",
     "text": [
      "Original array:\n",
      "[[15  2  3]\n",
      " [13  2 18]\n",
      " [10  1 10]]\n",
      "Masked array:\n",
      "[[-- 2 3]\n",
      " [13 -- 18]\n",
      " [10 1 --]]\n",
      "Modified masked array:\n",
      "[[ 7  2  3]\n",
      " [13  7 18]\n",
      " [10  1  7]]\n"
     ]
    }
   ],
   "source": [
    "# Create a masked array of shape (3, 3) with random integers\n",
    "array = np.random.randint(1, 21, size=(3, 3))\n",
    "masked_array = ma.masked_array(array, mask=np.eye(3, dtype=bool))\n",
    "print(\"Original array:\")\n",
    "print(array)\n",
    "print(\"Masked array:\")\n",
    "print(masked_array)\n",
    "\n",
    "# Replace the masked elements with the mean of the unmasked elements\n",
    "mean_unmasked = masked_array.mean()\n",
    "masked_array = masked_array.filled(mean_unmasked)\n",
    "print(\"Modified masked array:\")\n",
    "print(masked_array)"
   ]
  }
 ],
 "metadata": {
  "kernelspec": {
   "display_name": "Python 3 (ipykernel)",
   "language": "python",
   "name": "python3"
  },
  "language_info": {
   "codemirror_mode": {
    "name": "ipython",
    "version": 3
   },
   "file_extension": ".py",
   "mimetype": "text/x-python",
   "name": "python",
   "nbconvert_exporter": "python",
   "pygments_lexer": "ipython3",
   "version": "3.10.10"
  }
 },
 "nbformat": 4,
 "nbformat_minor": 5
}
