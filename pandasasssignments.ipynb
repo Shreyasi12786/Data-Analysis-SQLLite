{
 "cells": [
  {
   "cell_type": "markdown",
   "id": "f36ef0bc",
   "metadata": {},
   "source": [
    "# Module: Pandas Assignments\n",
    "## Lesson: Pandas\n",
    "### Assignment 1: DataFrame Creation and Indexing\n",
    "\n",
    "1. Create a Pandas DataFrame with 4 columns and 6 rows filled with random integers. Set the index to be the first column.\n",
    "2. Create a Pandas DataFrame with columns 'A', 'B', 'C' and index 'X', 'Y', 'Z'. Fill the DataFrame with random integers and access the element at row 'Y' and column 'B'.\n",
    "\n",
    "### Assignment 2: DataFrame Operations\n",
    "\n",
    "1. Create a Pandas DataFrame with 3 columns and 5 rows filled with random integers. Add a new column that is the product of the first two columns.\n",
    "2. Create a Pandas DataFrame with 3 columns and 4 rows filled with random integers. Compute the row-wise and column-wise sum.\n",
    "\n",
    "### Assignment 3: Data Cleaning\n",
    "\n",
    "1. Create a Pandas DataFrame with 3 columns and 5 rows filled with random integers. Introduce some NaN values. Fill the NaN values with the mean of the respective columns.\n",
    "2. Create a Pandas DataFrame with 4 columns and 6 rows filled with random integers. Introduce some NaN values. Drop the rows with any NaN values.\n",
    "\n",
    "### Assignment 4: Data Aggregation\n",
    "\n",
    "1. Create a Pandas DataFrame with 2 columns: 'Category' and 'Value'. Fill the 'Category' column with random categories ('A', 'B', 'C') and the 'Value' column with random integers. Group the DataFrame by 'Category' and compute the sum and mean of 'Value' for each category.\n",
    "2. Create a Pandas DataFrame with 3 columns: 'Product', 'Category', and 'Sales'. Fill the DataFrame with random data. Group the DataFrame by 'Category' and compute the total sales for each category.\n",
    "\n",
    "### Assignment 5: Merging DataFrames\n",
    "\n",
    "1. Create two Pandas DataFrames with a common column. Merge the DataFrames using the common column.\n",
    "2. Create two Pandas DataFrames with different columns. Concatenate the DataFrames along the rows and along the columns.\n",
    "\n",
    "### Assignment 6: Time Series Analysis\n",
    "\n",
    "1. Create a Pandas DataFrame with a datetime index and one column filled with random integers. Resample the DataFrame to compute the monthly mean of the values.\n",
    "2. Create a Pandas DataFrame with a datetime index ranging from '2021-01-01' to '2021-12-31' and one column filled with random integers. Compute the rolling mean with a window of 7 days.\n",
    "\n",
    "### Assignment 7: MultiIndex DataFrame\n",
    "\n",
    "1. Create a Pandas DataFrame with a MultiIndex (hierarchical index). Perform some basic indexing and slicing operations on the MultiIndex DataFrame.\n",
    "2. Create a Pandas DataFrame with MultiIndex consisting of 'Category' and 'SubCategory'. Fill the DataFrame with random data and compute the sum of values for each 'Category' and 'SubCategory'.\n",
    "\n",
    "### Assignment 8: Pivot Tables\n",
    "\n",
    "1. Create a Pandas DataFrame with columns 'Date', 'Category', and 'Value'. Create a pivot table to compute the sum of 'Value' for each 'Category' by 'Date'.\n",
    "2. Create a Pandas DataFrame with columns 'Year', 'Quarter', and 'Revenue'. Create a pivot table to compute the mean 'Revenue' for each 'Quarter' by 'Year'.\n",
    "\n",
    "### Assignment 9: Applying Functions\n",
    "\n",
    "1. Create a Pandas DataFrame with 3 columns and 5 rows filled with random integers. Apply a function that doubles the values of the DataFrame.\n",
    "2. Create a Pandas DataFrame with 3 columns and 6 rows filled with random integers. Apply a lambda function to create a new column that is the sum of the existing columns.\n",
    "\n",
    "### Assignment 10: Working with Text Data\n",
    "\n",
    "1. Create a Pandas Series with 5 random text strings. Convert all the strings to uppercase.\n",
    "2. Create a Pandas Series with 5 random text strings. Extract the first three characters of each string.\n"
   ]
  },
  {
   "cell_type": "markdown",
   "id": "083c40e7-fcdc-4407-bd8f-2685825fbf1f",
   "metadata": {},
   "source": [
    "### Assignment 3: Data Cleaning\n",
    "\n",
    "1. Create a Pandas DataFrame with 3 columns and 5 rows filled with random integers. Introduce some NaN values. Fill the NaN values with the mean of the respective columns.\n",
    "2. Create a Pandas DataFrame with 4 columns and 6 rows filled with random integers. Introduce some NaN values. Drop the rows with any NaN values."
   ]
  },
  {
   "cell_type": "code",
   "execution_count": 5,
   "id": "62d9f8d9-9ef5-40e4-a120-c2b7b4051e0c",
   "metadata": {},
   "outputs": [
    {
     "name": "stdout",
     "output_type": "stream",
     "text": [
      "Original DataFrame:\n",
      "    A   B   C\n",
      "0  13  13  13\n",
      "1  16  10   6\n",
      "2   5  10   5\n",
      "3   2   9  16\n",
      "4  12  16  11\n",
      "    A     B     C\n",
      "0  13   NaN  13.0\n",
      "1  16  10.0   6.0\n",
      "2   5  10.0   NaN\n",
      "3   2   9.0  16.0\n",
      "4  12   NaN  11.0\n",
      "    A          B     C\n",
      "0  13   9.666667  13.0\n",
      "1  16  10.000000   6.0\n",
      "2   5  10.000000  11.5\n",
      "3   2   9.000000  16.0\n",
      "4  12   9.666667  11.0\n"
     ]
    }
   ],
   "source": [
    "\n",
    "# 1. Create a Pandas DataFrame with 3 columns and 5 rows filled with random integers.  \n",
    "import pandas as pd\n",
    "import numpy as np\n",
    "df = pd.DataFrame(np.random.randint(1,17, size=(5,3)), columns=['A','B','C'])\n",
    "print(\"Original DataFrame:\")\n",
    "print(df)\n",
    "# Introduce some NaN values.\n",
    "df.iloc[0,1] =np.nan\n",
    "df.iloc[2,2] =np.nan\n",
    "df.iloc[4,1] =np.nan\n",
    "print(df)\n",
    "\n",
    "# Fill the NaN values with the mean of the respective columns.\n",
    "# inplace = In pandas, inplace=True is an optional parameter used in many methods to indicate whether the operation should modify the original object directly or return a modified copy of it.\n",
    "df.fillna(df.mean(), inplace=True)\n",
    "print(df)"
   ]
  },
  {
   "cell_type": "code",
   "execution_count": 8,
   "id": "3fb18f82-7eb3-4df8-a425-ea7093ec8357",
   "metadata": {},
   "outputs": [
    {
     "name": "stdout",
     "output_type": "stream",
     "text": [
      "Original DataFrame:\n",
      "    A   B   C   D\n",
      "0   5  16   3  10\n",
      "1   6  14  19  18\n",
      "2   7  20   4   1\n",
      "3   7   9  11   9\n",
      "4  19  20   5  12\n",
      "5  16  13   9   1\n",
      "    A     B     C     D\n",
      "0   5   NaN   3.0  10.0\n",
      "1   6  14.0  19.0  18.0\n",
      "2   7  20.0   NaN   1.0\n",
      "3   7   9.0  11.0   9.0\n",
      "4  19   NaN   5.0  12.0\n",
      "5  16  13.0   9.0   NaN\n",
      "   A     B     C     D\n",
      "1  6  14.0  19.0  18.0\n",
      "3  7   9.0  11.0   9.0\n"
     ]
    }
   ],
   "source": [
    "# 2. Create a Pandas DataFrame with 4 columns and 6 rows filled with random integers. \n",
    "df1 = pd.DataFrame(np.random.randint(1,25, size=(6,4)), columns=['A','B','C','D'])\n",
    "print(\"Original DataFrame:\")\n",
    "print(df1)\n",
    "# Introduce some NaN values. \n",
    "df1.iloc[0,1] =np.nan\n",
    "df1.iloc[2,2] =np.nan\n",
    "df1.iloc[4,1] =np.nan\n",
    "df1.iloc[5,3] = np.nan\n",
    "print(df1)\n",
    "# Drop the rows with any NaN values.\n",
    "df1.dropna(inplace= True)\n",
    "print(df1)"
   ]
  },
  {
   "cell_type": "markdown",
   "id": "0193b341-d0a8-404f-b4de-5ff11f96ce3d",
   "metadata": {},
   "source": [
    "### Assignment 4: Data Aggregation\n",
    "\n",
    "1. Create a Pandas DataFrame with 2 columns: 'Category' and 'Value'. Fill the 'Category' column with random categories ('A', 'B', 'C') and the 'Value' column with random integers. Group the DataFrame by 'Category' and compute the sum and mean of 'Value' for each category.\n",
    "2. Create a Pandas DataFrame with 3 columns: 'Product', 'Category', and 'Sales'. Fill the DataFrame with random data. Group the DataFrame by 'Category' and compute the total sales for each category."
   ]
  },
  {
   "cell_type": "code",
   "execution_count": 10,
   "id": "396c7f31-d02d-4418-a00d-0d7cfe91730a",
   "metadata": {},
   "outputs": [
    {
     "name": "stdout",
     "output_type": "stream",
     "text": [
      "  Category  Value\n",
      "0        C     23\n",
      "1        C     30\n",
      "2        B     75\n",
      "3        A     86\n",
      "4        C     72\n",
      "5        B     32\n",
      "6        A     98\n",
      "7        A     90\n",
      "8        B     67\n",
      "9        A     78\n"
     ]
    },
    {
     "data": {
      "text/html": [
       "<div>\n",
       "<style scoped>\n",
       "    .dataframe tbody tr th:only-of-type {\n",
       "        vertical-align: middle;\n",
       "    }\n",
       "\n",
       "    .dataframe tbody tr th {\n",
       "        vertical-align: top;\n",
       "    }\n",
       "\n",
       "    .dataframe thead th {\n",
       "        text-align: right;\n",
       "    }\n",
       "</style>\n",
       "<table border=\"1\" class=\"dataframe\">\n",
       "  <thead>\n",
       "    <tr style=\"text-align: right;\">\n",
       "      <th></th>\n",
       "      <th>sum</th>\n",
       "      <th>mean</th>\n",
       "    </tr>\n",
       "    <tr>\n",
       "      <th>Category</th>\n",
       "      <th></th>\n",
       "      <th></th>\n",
       "    </tr>\n",
       "  </thead>\n",
       "  <tbody>\n",
       "    <tr>\n",
       "      <th>A</th>\n",
       "      <td>352</td>\n",
       "      <td>88.000000</td>\n",
       "    </tr>\n",
       "    <tr>\n",
       "      <th>B</th>\n",
       "      <td>174</td>\n",
       "      <td>58.000000</td>\n",
       "    </tr>\n",
       "    <tr>\n",
       "      <th>C</th>\n",
       "      <td>125</td>\n",
       "      <td>41.666667</td>\n",
       "    </tr>\n",
       "  </tbody>\n",
       "</table>\n",
       "</div>"
      ],
      "text/plain": [
       "          sum       mean\n",
       "Category                \n",
       "A         352  88.000000\n",
       "B         174  58.000000\n",
       "C         125  41.666667"
      ]
     },
     "execution_count": 10,
     "metadata": {},
     "output_type": "execute_result"
    }
   ],
   "source": [
    "# 1. Create a Pandas DataFrame with 2 columns: 'Category' and 'Value'. # Fill the 'Category' column with random categories ('A', 'B', 'C') and the 'Value' column with random integers. \n",
    "sales_df = pd.DataFrame({'Category':np.random.choice(['A','B','C'], size=10),'Value':np.random.randint(1,100,size=10)})\n",
    "print(sales_df)\n",
    "\n",
    "# Group the DataFrame by 'Category' and compute the sum and mean of 'Value' for each category.\n",
    "sales_df.groupby('Category')['Value'].agg(['sum','mean'])\n"
   ]
  },
  {
   "cell_type": "code",
   "execution_count": 12,
   "id": "6b654f85-a71c-4dc6-8a0f-331e58bd5777",
   "metadata": {},
   "outputs": [
    {
     "name": "stdout",
     "output_type": "stream",
     "text": [
      "   Product Category  Sales\n",
      "0       AC        C     37\n",
      "1       TV        A     13\n",
      "2       TV        B     71\n",
      "3       AC        C      9\n",
      "4       TV        B     57\n",
      "5       AC        C     20\n",
      "6  Toaster        C     54\n",
      "7       TV        A     95\n",
      "8  Toaster        C      7\n",
      "9       TV        C     45\n"
     ]
    },
    {
     "data": {
      "text/plain": [
       "Category\n",
       "A    108\n",
       "B    128\n",
       "C    172\n",
       "Name: Sales, dtype: int32"
      ]
     },
     "execution_count": 12,
     "metadata": {},
     "output_type": "execute_result"
    }
   ],
   "source": [
    "# Create a Pandas DataFrame with 3 columns: 'Product', 'Category', and 'Sales'. Fill the DataFrame with random data.\n",
    "prod_df = pd.DataFrame({'Product':np.random.choice(['TV','Toaster','AC'],size=10),'Category':np.random.choice(['A','B','C'], size=10),'Sales':np.random.randint(1,100,size=10)})\n",
    "print(prod_df)\n",
    "# Group the DataFrame by 'Category' and compute the total sales for each category.\n",
    "prod_df.groupby('Category')['Sales'].sum()\n"
   ]
  },
  {
   "cell_type": "markdown",
   "id": "c99f8d56-3913-4745-b436-b1d75692b3fa",
   "metadata": {},
   "source": [
    "### Assignment 5: Merging DataFrames\n",
    "\n",
    "1. Create two Pandas DataFrames with a common column. Merge the DataFrames using the common column.\n",
    "2. Create two Pandas DataFrames with different columns. Concatenate the DataFrames along the rows and along the columns."
   ]
  },
  {
   "cell_type": "code",
   "execution_count": 14,
   "id": "611f75f2-7e05-4ac0-80bd-bf418c42f7ca",
   "metadata": {},
   "outputs": [
    {
     "name": "stdout",
     "output_type": "stream",
     "text": [
      "  Key  Value\n",
      "0   A     52\n",
      "1   B      9\n",
      "2   C     48\n",
      "3   D     13\n",
      "  Key  Value\n",
      "0   E     44\n",
      "1   F     83\n",
      "2   G     17\n",
      "3   D      9\n",
      "  Key  Value_x  Value_y\n",
      "0   D       13        9\n"
     ]
    }
   ],
   "source": [
    "# 1. Create two Pandas DataFrames with a common column. \n",
    "dfm1 = pd.DataFrame({'Key':['A','B','C','D'],'Value':np.random.randint(1,100,size=4)})\n",
    "dfm2 = pd.DataFrame({'Key':['E','F','G','D'],'Value':np.random.randint(1,100,size=4)})\n",
    "print(dfm1)\n",
    "print(dfm2)\n",
    "# Merge the DataFrames using the common column.\n",
    "merged = pd.merge(dfm1,dfm2, on='Key')\n",
    "print(merged)"
   ]
  },
  {
   "cell_type": "code",
   "execution_count": 15,
   "id": "7cc95ddf-d78b-4e14-a5e0-2a5aae7bfd02",
   "metadata": {},
   "outputs": [
    {
     "name": "stdout",
     "output_type": "stream",
     "text": [
      "DataFrame 1:\n",
      "    A   B\n",
      "0  64  48\n",
      "1  91  64\n",
      "2  83  73\n",
      "DataFrame 2:\n",
      "    C   D\n",
      "0  97   3\n",
      "1  54  20\n",
      "2  61  20\n",
      "Concatenated DataFrame (rows):\n",
      "      A     B     C     D\n",
      "0  64.0  48.0   NaN   NaN\n",
      "1  91.0  64.0   NaN   NaN\n",
      "2  83.0  73.0   NaN   NaN\n",
      "0   NaN   NaN  97.0   3.0\n",
      "1   NaN   NaN  54.0  20.0\n",
      "2   NaN   NaN  61.0  20.0\n",
      "Concatenated DataFrame (columns):\n",
      "    A   B   C   D\n",
      "0  64  48  97   3\n",
      "1  91  64  54  20\n",
      "2  83  73  61  20\n"
     ]
    }
   ],
   "source": [
    "# Create two Pandas DataFrames with different columns\n",
    "df1 = pd.DataFrame({'A': np.random.randint(1, 100, size=3), 'B': np.random.randint(1, 100, size=3)})\n",
    "df2 = pd.DataFrame({'C': np.random.randint(1, 100, size=3), 'D': np.random.randint(1, 100, size=3)})\n",
    "print(\"DataFrame 1:\")\n",
    "print(df1)\n",
    "print(\"DataFrame 2:\")\n",
    "print(df2)\n",
    "\n",
    "# Concatenate the DataFrames along the rows\n",
    "concat_rows = pd.concat([df1, df2], axis=0)\n",
    "print(\"Concatenated DataFrame (rows):\")\n",
    "print(concat_rows)\n",
    "\n",
    "# Concatenate the DataFrames along the columns\n",
    "concat_columns = pd.concat([df1, df2], axis=1)\n",
    "print(\"Concatenated DataFrame (columns):\")\n",
    "print(concat_columns)"
   ]
  },
  {
   "cell_type": "markdown",
   "id": "166a1894-7fe3-4d63-89f5-5724c736142a",
   "metadata": {},
   "source": [
    "### Assignment 6: Time Series Analysis\n",
    "\n",
    "1. Create a Pandas DataFrame with a datetime index and one column filled with random integers. Resample the DataFrame to compute the monthly mean of the values.\n",
    "2. Create a Pandas DataFrame with a datetime index ranging from '2021-01-01' to '2021-12-31' and one column filled with random integers. Compute the rolling mean with a window of 7 days."
   ]
  },
  {
   "cell_type": "code",
   "execution_count": 19,
   "id": "fcc737f0-d984-4586-ace5-9d4ba44b458b",
   "metadata": {},
   "outputs": [
    {
     "name": "stdout",
     "output_type": "stream",
     "text": [
      "            data\n",
      "date            \n",
      "2024-01-01    23\n",
      "2024-01-02    35\n",
      "2024-01-03    85\n",
      "2024-01-04    34\n",
      "2024-01-05    34\n",
      "...          ...\n",
      "2024-12-27    63\n",
      "2024-12-28    72\n",
      "2024-12-29    65\n",
      "2024-12-30    59\n",
      "2024-12-31    18\n",
      "\n",
      "[366 rows x 1 columns]\n",
      "                 data\n",
      "date                 \n",
      "2024-01-31  44.129032\n",
      "2024-02-29  51.551724\n",
      "2024-03-31  43.806452\n",
      "2024-04-30  43.166667\n",
      "2024-05-31  49.483871\n",
      "2024-06-30  48.200000\n",
      "2024-07-31  53.806452\n",
      "2024-08-31  43.967742\n",
      "2024-09-30  48.800000\n",
      "2024-10-31  48.387097\n",
      "2024-11-30  49.266667\n",
      "2024-12-31  47.645161\n"
     ]
    }
   ],
   "source": [
    "# 1. Create a Pandas DataFrame with a datetime index and one column filled with random integers.\n",
    "### Create a object date_rng - using date_range method of pandas - it has values starting from 1 jan 2024 to 31 dec 2024, frequency is daily means 365 values.\n",
    "date_rng = pd.date_range(start='2024-01-01',end='2024-12-31',freq='D') \n",
    "### Create a pd data frame with data taken from above object and putting it in column date\n",
    "df = pd.DataFrame(date_rng, columns=['date'])\n",
    "### Create a new column in above df called data \n",
    "df['data'] = np.random.randint(1,100, size=(len(date_rng)))\n",
    "\n",
    "df.set_index('date',inplace= True)\n",
    "print(df)\n",
    "\n",
    "\n",
    "# Resample the DataFrame to compute the monthly mean of the values.\n",
    "monthly_mean = df.resample('ME').mean()\n",
    "print(monthly_mean)"
   ]
  },
  {
   "cell_type": "markdown",
   "id": "e29b4969-ce91-4bab-be19-3508cbaad8ef",
   "metadata": {},
   "source": [
    "### Assignment 7: MultiIndex DataFrame\n",
    "\n",
    "1. Create a Pandas DataFrame with a MultiIndex (hierarchical index). Perform some basic indexing and slicing operations on the MultiIndex DataFrame.\n",
    "2. Create a Pandas DataFrame with MultiIndex consisting of 'Category' and 'SubCategory'. Fill the DataFrame with random data and compute the sum of values for each 'Category' and 'SubCategory'.\n"
   ]
  },
  {
   "cell_type": "code",
   "execution_count": null,
   "id": "8d0be74f-741d-442d-b676-3bc6afc147e7",
   "metadata": {},
   "outputs": [],
   "source": [
    "# 1. Create a Pandas DataFrame with a MultiIndex (hierarchical index). \n",
    "\n",
    "# Perform some basic indexing and slicing operations on the MultiIndex DataFrame."
   ]
  }
 ],
 "metadata": {
  "kernelspec": {
   "display_name": "Python 3 (ipykernel)",
   "language": "python",
   "name": "python3"
  },
  "language_info": {
   "codemirror_mode": {
    "name": "ipython",
    "version": 3
   },
   "file_extension": ".py",
   "mimetype": "text/x-python",
   "name": "python",
   "nbconvert_exporter": "python",
   "pygments_lexer": "ipython3",
   "version": "3.10.10"
  }
 },
 "nbformat": 4,
 "nbformat_minor": 5
}
