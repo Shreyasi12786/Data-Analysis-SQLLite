{
 "cells": [
  {
   "cell_type": "markdown",
   "id": "b3f42f7b-228e-486f-9453-e3aba7cce2d3",
   "metadata": {},
   "source": [
    "Numpy Library\n",
    "NumPy, short for Numerical Python, serves as a fundamental library for scientific computing in Python.\n",
    "It introduces powerful tools for working with arrays, matrices, and mathematical functions."
   ]
  },
  {
   "cell_type": "code",
   "execution_count": 2,
   "id": "726abc6c-3e8c-4ed5-9000-b97638bee43a",
   "metadata": {},
   "outputs": [
    {
     "name": "stdout",
     "output_type": "stream",
     "text": [
      "Looking in indexes: https://artifactory.airbus.corp/artifactory/api/pypi/r-airbus-pypi-virtual/simple\n",
      "Requirement already satisfied: numpy in c:\\users\\spanbagv\\appdata\\local\\miniforge3\\lib\\site-packages (2.1.3)\n"
     ]
    }
   ],
   "source": [
    "# installing numpy via jupyter lab\n",
    "!pip install numpy"
   ]
  },
  {
   "cell_type": "code",
   "execution_count": 3,
   "id": "314e228e-93e6-4f0f-bda2-827f9cbe69cd",
   "metadata": {},
   "outputs": [],
   "source": [
    "import numpy as np\n"
   ]
  },
  {
   "cell_type": "code",
   "execution_count": 4,
   "id": "b473e458-21f3-4707-8def-300b099a086e",
   "metadata": {},
   "outputs": [
    {
     "name": "stdout",
     "output_type": "stream",
     "text": [
      "[1 2 3 4]\n"
     ]
    }
   ],
   "source": [
    "#creating 1D Array\n",
    "arr1 = np.array([1,2,3,4])\n",
    "print(arr1)\n"
   ]
  },
  {
   "cell_type": "code",
   "execution_count": 5,
   "id": "ebfcbb4c-a9dc-4d1a-a2d6-1033fd299894",
   "metadata": {},
   "outputs": [
    {
     "name": "stdout",
     "output_type": "stream",
     "text": [
      "<class 'numpy.ndarray'>\n"
     ]
    }
   ],
   "source": [
    "print(type(arr1))"
   ]
  },
  {
   "cell_type": "code",
   "execution_count": 9,
   "id": "a05ad422-ce2f-4e96-81b2-324554ccae43",
   "metadata": {},
   "outputs": [
    {
     "name": "stdout",
     "output_type": "stream",
     "text": [
      "(4,)\n"
     ]
    }
   ],
   "source": [
    "print(arr1.shape) #gives rows and columns "
   ]
  },
  {
   "cell_type": "code",
   "execution_count": 12,
   "id": "5d60755b-9806-4b1f-a69b-3ef5266291e8",
   "metadata": {},
   "outputs": [
    {
     "data": {
      "text/plain": [
       "array([[1, 2, 3, 4, 5]])"
      ]
     },
     "execution_count": 12,
     "metadata": {},
     "output_type": "execute_result"
    }
   ],
   "source": [
    "# Transforming a 1D array to 2D array\n",
    "arr2 = np.array([1,2,3,4,5])\n",
    "arr2.reshape(1,5) #reshape arr2 to 1 row and 5 column 2d array\n"
   ]
  },
  {
   "cell_type": "code",
   "execution_count": 14,
   "id": "c9db8786-bdec-4d4e-9f5e-526d494ac790",
   "metadata": {},
   "outputs": [
    {
     "data": {
      "text/plain": [
       "(1, 5)"
      ]
     },
     "execution_count": 14,
     "metadata": {},
     "output_type": "execute_result"
    }
   ],
   "source": [
    "# Creating 2d array \n",
    "arr3 = np.array([[1,2,3,4,5]]) # use nested list\n",
    "arr3.shape"
   ]
  },
  {
   "cell_type": "code",
   "execution_count": 15,
   "id": "43af0972-0d86-40cf-9b3d-39f9acd5c823",
   "metadata": {},
   "outputs": [
    {
     "name": "stdout",
     "output_type": "stream",
     "text": [
      "[[ 1  2  3  4  5]\n",
      " [ 6  7  8  9 10]]\n",
      "(2, 5)\n"
     ]
    }
   ],
   "source": [
    "# 2D Array\n",
    "arr4 = np.array([[1,2,3,4,5],[6,7,8,9,10]])\n",
    "print(arr4)\n",
    "print(arr4.shape)"
   ]
  },
  {
   "cell_type": "code",
   "execution_count": 22,
   "id": "fa23a670-f9bc-42ef-9367-a7952e81236a",
   "metadata": {},
   "outputs": [
    {
     "name": "stdout",
     "output_type": "stream",
     "text": [
      "[ 0  2  4  6  8 10]\n"
     ]
    }
   ],
   "source": [
    "#Arange function (Range start, Range end(Not inclusive), Step size)\n",
    "arr5 = np.arange(0,12,2)\n",
    "print(arr5)\n"
   ]
  },
  {
   "cell_type": "code",
   "execution_count": 21,
   "id": "48568983-edcf-479b-a0ef-c485a2bb6878",
   "metadata": {},
   "outputs": [
    {
     "name": "stdout",
     "output_type": "stream",
     "text": [
      "[[ 0]\n",
      " [ 2]\n",
      " [ 4]\n",
      " [ 6]\n",
      " [ 8]\n",
      " [10]]\n"
     ]
    }
   ],
   "source": [
    "# reshape it to a 2D array\n",
    "\n",
    "arr5 = np.arange(0,12,2).reshape(6,1)\n",
    "print(arr5)"
   ]
  },
  {
   "cell_type": "code",
   "execution_count": 26,
   "id": "43147528-f8a4-47c5-aca2-b8a4a9ae90d6",
   "metadata": {},
   "outputs": [
    {
     "name": "stdout",
     "output_type": "stream",
     "text": [
      "[[1. 1.]\n",
      " [1. 1.]\n",
      " [1. 1.]]\n",
      "[[0. 0.]\n",
      " [0. 0.]\n",
      " [0. 0.]]\n"
     ]
    },
    {
     "data": {
      "text/plain": [
       "array([[1., 0., 0., 0.],\n",
       "       [0., 1., 0., 0.],\n",
       "       [0., 0., 1., 0.],\n",
       "       [0., 0., 0., 1.]])"
      ]
     },
     "execution_count": 26,
     "metadata": {},
     "output_type": "execute_result"
    }
   ],
   "source": [
    "# ones function (row, col) > will create a 2d array with element = 1\n",
    "#*** Use a tuple to define rows and cols \n",
    "onearr = np.ones((3,2))\n",
    "print(onearr)\n",
    "xeroarr = np.zeros((3,2))\n",
    "print(xeroarr)\n",
    "# identity Matrix > Only diagonal elements 1\n",
    "np.eye(4)"
   ]
  },
  {
   "cell_type": "code",
   "execution_count": 29,
   "id": "4cd89801-2bdc-4e73-8fd2-1bdbd52ef477",
   "metadata": {},
   "outputs": [
    {
     "name": "stdout",
     "output_type": "stream",
     "text": [
      "\n",
      "Array :  [[1 2 3 4]\n",
      " [5 6 7 8]]\n",
      "\n",
      "Shape :  (2, 4)\n",
      "\n",
      "NUmber of Dimensions :  2\n",
      "\n",
      "Size (no of elements):  8\n",
      "\n",
      "DataType: int64\n",
      "\n",
      "ItemSize(in bytes) :  8\n"
     ]
    }
   ],
   "source": [
    "# General attributes of Numpy\n",
    "\n",
    "arr = np.array([[1,2,3,4],[5,6,7,8]])\n",
    "\n",
    "print(\"\\nArray : \", arr)\n",
    "print(\"\\nShape : \", arr.shape)\n",
    "print(\"\\nNUmber of Dimensions : \", arr.ndim)\n",
    "print(\"\\nSize (no of elements): \", arr.size)\n",
    "print(\"\\nDataType:\", arr.dtype)\n",
    "print(\"\\nItemSize(in bytes) : \", arr.itemsize)"
   ]
  },
  {
   "cell_type": "code",
   "execution_count": 30,
   "id": "69ab1440-11f1-4779-894e-d02f1e45ca85",
   "metadata": {},
   "outputs": [],
   "source": [
    "# Numpy Vectorized Ops\n",
    "arrA = np.array([1,2,3,4,5])\n",
    "arrB = np.array([10,20,30,40,50])\n"
   ]
  },
  {
   "cell_type": "code",
   "execution_count": 32,
   "id": "65be4a2b-3df5-42e8-b0fd-e8c8b80f88e0",
   "metadata": {},
   "outputs": [
    {
     "name": "stdout",
     "output_type": "stream",
     "text": [
      "[11 22 33 44 55]\n",
      "[ -9 -18 -27 -36 -45]\n"
     ]
    }
   ],
   "source": [
    "# Element wise addition\n",
    "print(arrA + arrB)\n",
    "# eLE WISE Substraction\n",
    "print(arrA - arrB)\n",
    "# Same for Multiply and Division\n",
    "\n"
   ]
  },
  {
   "cell_type": "code",
   "execution_count": 36,
   "id": "8f3963cc-4d78-401a-b486-d00ead43b0e9",
   "metadata": {},
   "outputs": [
    {
     "name": "stdout",
     "output_type": "stream",
     "text": [
      "[1.         1.41421356 1.73205081 2.         2.23606798]\n",
      "[  2.71828183   7.3890561   20.08553692  54.59815003 148.4131591 ]\n",
      "[ 0.84147098  0.90929743  0.14112001 -0.7568025  -0.95892427]\n",
      "[0.         0.69314718 1.09861229 1.38629436 1.60943791]\n"
     ]
    }
   ],
   "source": [
    "# Math functions\n",
    "arrU = np.array([1,2,3,4,5])\n",
    "print(np.sqrt(arrU)) # Squareroot\n",
    "print(np.exp(arrU)) # Exponential\n",
    "print(np.sin(arrU)) # sine\n",
    "print(np.log(arrU))"
   ]
  },
  {
   "cell_type": "code",
   "execution_count": 41,
   "id": "b032be03-02c3-4b59-b5f7-00d48c429efc",
   "metadata": {},
   "outputs": [
    {
     "name": "stdout",
     "output_type": "stream",
     "text": [
      "[[ 1  2  3  4  5]\n",
      " [ 6  7  8  9 10]\n",
      " [11 12 13 14 15]]\n",
      "1\n",
      "[[ 8  9 10]\n",
      " [13 14 15]]\n"
     ]
    }
   ],
   "source": [
    "#array Slicing and Indexing\n",
    "\n",
    "arrS = np.array([[1,2,3,4,5],[6,7,8,9,10],[11,12,13,14,15]])\n",
    "print(arrS)\n",
    "\n",
    "print(arrS[0][0]) # indexing is 0 based\n",
    "print(arrS[1:,2:]) # Slicing\n",
    "\n",
    "\n",
    "\n"
   ]
  },
  {
   "cell_type": "code",
   "execution_count": 43,
   "id": "4de6e2db-1f7a-4a1e-82ac-a2bd8cbe93bd",
   "metadata": {},
   "outputs": [
    {
     "name": "stdout",
     "output_type": "stream",
     "text": [
      "[[ 7  8]\n",
      " [12 13]]\n"
     ]
    }
   ],
   "source": [
    "# Slicing 7,8,12,13\n",
    "print(arrS[1:,1:3])"
   ]
  },
  {
   "cell_type": "code",
   "execution_count": 44,
   "id": "fcf28aba-605f-4362-8dca-3fe1ab477ffe",
   "metadata": {},
   "outputs": [
    {
     "name": "stdout",
     "output_type": "stream",
     "text": [
      "[[17  2  3  4  5]\n",
      " [ 6  7  8  9 10]\n",
      " [11 12 13 14 15]]\n"
     ]
    }
   ],
   "source": [
    "# Modify arr elements\n",
    "arrS[0,0] =17\n",
    "print(arrS)"
   ]
  },
  {
   "cell_type": "markdown",
   "id": "22b2ea4b-3a0d-46cf-9fc0-f0beeacfcbe2",
   "metadata": {},
   "source": [
    "PRACTICAL Application \n"
   ]
  },
  {
   "cell_type": "code",
   "execution_count": 46,
   "id": "3358c7f6-550b-40bd-9fc2-9462c1b1938f",
   "metadata": {},
   "outputs": [
    {
     "name": "stdout",
     "output_type": "stream",
     "text": [
      "[1 2 3 4]\n",
      "[-1.34164079 -0.4472136   0.4472136   1.34164079]\n"
     ]
    }
   ],
   "source": [
    "# Statistical Concept\n",
    "# NORMALISATION > Mean = 0 , Std Deviation = 1\n",
    "\n",
    "arrM = np.array([1,2,3,4])\n",
    "\n",
    "mean = np.mean(arrM)\n",
    "st_dev = np.std(arrM)\n",
    "\n",
    "normalized = (arrM - mean) /st_dev\n",
    "\n",
    "print(arrM)\n",
    "print(normalized)\n",
    "\n"
   ]
  },
  {
   "cell_type": "code",
   "execution_count": 48,
   "id": "af56b036-0409-446e-a9bd-ed9afce5edfb",
   "metadata": {},
   "outputs": [
    {
     "name": "stdout",
     "output_type": "stream",
     "text": [
      "5.5\n",
      "5.5\n",
      "8.25\n",
      "2.8722813232690143\n"
     ]
    }
   ],
   "source": [
    "# calculating Mean Median Mode\n",
    "data = np.array([1,2,3,4,5,6,7,8,9,10])\n",
    "\n",
    "mean = np.mean(data)\n",
    "median = np.median(data)\n",
    "variance = np.var(data)\n",
    "std_dev = np.std(data)\n",
    "\n",
    "print(mean)\n",
    "print(median)\n",
    "print(variance)\n",
    "print(std_dev)"
   ]
  },
  {
   "cell_type": "code",
   "execution_count": 53,
   "id": "041dd784-b128-4ebb-9014-ba7bbdf54552",
   "metadata": {},
   "outputs": [
    {
     "data": {
      "text/plain": [
       "array([5, 6, 7, 8])"
      ]
     },
     "execution_count": 53,
     "metadata": {},
     "output_type": "execute_result"
    }
   ],
   "source": [
    "# Logical Opertions\n",
    "data = np.array([1,2,3,4,5,6,7,8,9,10])\n",
    "data[data>5] # logical ops\n",
    "data[(data>=5) & (data<=8)]\n"
   ]
  },
  {
   "cell_type": "code",
   "execution_count": null,
   "id": "b821b3b6-7d96-4ea3-a829-4d30fc2a7e7d",
   "metadata": {},
   "outputs": [],
   "source": []
  }
 ],
 "metadata": {
  "kernelspec": {
   "display_name": "Python 3 (ipykernel)",
   "language": "python",
   "name": "python3"
  },
  "language_info": {
   "codemirror_mode": {
    "name": "ipython",
    "version": 3
   },
   "file_extension": ".py",
   "mimetype": "text/x-python",
   "name": "python",
   "nbconvert_exporter": "python",
   "pygments_lexer": "ipython3",
   "version": "3.10.10"
  }
 },
 "nbformat": 4,
 "nbformat_minor": 5
}
