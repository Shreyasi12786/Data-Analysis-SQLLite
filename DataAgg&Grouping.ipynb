{
 "cells": [
  {
   "cell_type": "code",
   "execution_count": null,
   "id": "8c732b64-7f9d-4f53-9101-f17294e354a6",
   "metadata": {},
   "outputs": [],
   "source": [
    "#DATA AGGREGATION AND GROUPING\n"
   ]
  },
  {
   "cell_type": "code",
   "execution_count": 1,
   "id": "c52f37c5-78a1-4175-8574-d70125d971da",
   "metadata": {},
   "outputs": [],
   "source": [
    "import pandas as pd"
   ]
  },
  {
   "cell_type": "code",
   "execution_count": 2,
   "id": "1c06aea0-0b17-4024-8eff-066c352647cb",
   "metadata": {},
   "outputs": [],
   "source": [
    "df = pd.read_csv('Dataset.csv')"
   ]
  },
  {
   "cell_type": "code",
   "execution_count": 3,
   "id": "2ece115d-ad4c-429f-a827-66900af3d11f",
   "metadata": {},
   "outputs": [
    {
     "data": {
      "text/html": [
       "<div>\n",
       "<style scoped>\n",
       "    .dataframe tbody tr th:only-of-type {\n",
       "        vertical-align: middle;\n",
       "    }\n",
       "\n",
       "    .dataframe tbody tr th {\n",
       "        vertical-align: top;\n",
       "    }\n",
       "\n",
       "    .dataframe thead th {\n",
       "        text-align: right;\n",
       "    }\n",
       "</style>\n",
       "<table border=\"1\" class=\"dataframe\">\n",
       "  <thead>\n",
       "    <tr style=\"text-align: right;\">\n",
       "      <th></th>\n",
       "      <th>Sales-Date</th>\n",
       "      <th>Category</th>\n",
       "      <th>Region</th>\n",
       "      <th>Product</th>\n",
       "      <th>Sales</th>\n",
       "      <th>Value</th>\n",
       "    </tr>\n",
       "  </thead>\n",
       "  <tbody>\n",
       "    <tr>\n",
       "      <th>0</th>\n",
       "      <td>2024-11-03</td>\n",
       "      <td>Books</td>\n",
       "      <td>East</td>\n",
       "      <td>Mystery</td>\n",
       "      <td>50.0</td>\n",
       "      <td>3128.77</td>\n",
       "    </tr>\n",
       "    <tr>\n",
       "      <th>1</th>\n",
       "      <td>2024-01-31</td>\n",
       "      <td>Books</td>\n",
       "      <td>East</td>\n",
       "      <td>Sci-Fi</td>\n",
       "      <td>95.0</td>\n",
       "      <td>754.56</td>\n",
       "    </tr>\n",
       "    <tr>\n",
       "      <th>2</th>\n",
       "      <td>2024-12-15</td>\n",
       "      <td>Sports</td>\n",
       "      <td>North</td>\n",
       "      <td>Basketball</td>\n",
       "      <td>84.0</td>\n",
       "      <td>1079.05</td>\n",
       "    </tr>\n",
       "    <tr>\n",
       "      <th>3</th>\n",
       "      <td>2024-02-13</td>\n",
       "      <td>Sports</td>\n",
       "      <td>East</td>\n",
       "      <td>Tennis Racket</td>\n",
       "      <td>9.0</td>\n",
       "      <td>4041.48</td>\n",
       "    </tr>\n",
       "    <tr>\n",
       "      <th>4</th>\n",
       "      <td>2024-09-04</td>\n",
       "      <td>Apparel</td>\n",
       "      <td>West</td>\n",
       "      <td>T-Shirt</td>\n",
       "      <td>52.0</td>\n",
       "      <td>335.19</td>\n",
       "    </tr>\n",
       "  </tbody>\n",
       "</table>\n",
       "</div>"
      ],
      "text/plain": [
       "   Sales-Date Category Region        Product  Sales    Value\n",
       "0  2024-11-03    Books   East        Mystery   50.0  3128.77\n",
       "1  2024-01-31    Books   East         Sci-Fi   95.0   754.56\n",
       "2  2024-12-15   Sports  North     Basketball   84.0  1079.05\n",
       "3  2024-02-13   Sports   East  Tennis Racket    9.0  4041.48\n",
       "4  2024-09-04  Apparel   West        T-Shirt   52.0   335.19"
      ]
     },
     "execution_count": 3,
     "metadata": {},
     "output_type": "execute_result"
    }
   ],
   "source": [
    "df.head()"
   ]
  },
  {
   "cell_type": "code",
   "execution_count": 4,
   "id": "ebae3a68-4a00-458e-b557-663bc3c87f65",
   "metadata": {},
   "outputs": [
    {
     "name": "stdout",
     "output_type": "stream",
     "text": [
      "Product\n",
      "Basketball        2689.975000\n",
      "Biography         2078.170000\n",
      "Blender           1098.580000\n",
      "Coffee Maker      1440.380000\n",
      "Dress             3005.830000\n",
      "Dumbbells         2095.402500\n",
      "Fiction           2696.496667\n",
      "Football          2017.426667\n",
      "Headphones        4598.480000\n",
      "Jacket            1665.470000\n",
      "Laptop             534.407500\n",
      "Mystery           1782.370000\n",
      "Non-Fiction       1013.830000\n",
      "Sci-Fi            1127.130000\n",
      "Smartwatch        2973.217500\n",
      "Sneakers          2975.295000\n",
      "T-Shirt           1806.117500\n",
      "Tablet            2031.165000\n",
      "Tennis Racket     2233.065000\n",
      "Vacuum Cleaner    1593.430000\n",
      "Yoga Mat          1385.860000\n",
      "Name: Value, dtype: float64\n"
     ]
    }
   ],
   "source": [
    "# Group by Product and Tell by each product the value by mean\n",
    "grouped_mean = df.groupby('Product')['Value'].mean()\n",
    "print(grouped_mean)"
   ]
  },
  {
   "cell_type": "code",
   "execution_count": 5,
   "id": "fb005a92-c80e-4f9f-a720-eeb0b07b2022",
   "metadata": {},
   "outputs": [
    {
     "name": "stdout",
     "output_type": "stream",
     "text": [
      "Product         Region \n",
      "Basketball      East        42.0\n",
      "                North       84.0\n",
      "Biography       Central     76.0\n",
      "Blender         Central    108.0\n",
      "Coffee Maker    West        79.0\n",
      "Dress           North       17.0\n",
      "Dumbbells       East        58.0\n",
      "                North       91.0\n",
      "                South       87.0\n",
      "                West        84.0\n",
      "Fiction         Central    120.0\n",
      "                North       68.0\n",
      "Football        South       52.0\n",
      "                West       113.0\n",
      "Headphones      North       38.0\n",
      "Jacket          Central     18.0\n",
      "                North       82.0\n",
      "Laptop          Central     86.0\n",
      "                North       84.0\n",
      "                West        46.0\n",
      "Mystery         Central     52.0\n",
      "                East        50.0\n",
      "                North       18.0\n",
      "                West        12.0\n",
      "Non-Fiction     East        85.0\n",
      "Sci-Fi          East        95.0\n",
      "                South       98.0\n",
      "Smartwatch      East        82.0\n",
      "                North       42.0\n",
      "                West         4.0\n",
      "Sneakers        West        61.0\n",
      "T-Shirt         Central     26.0\n",
      "                East        96.0\n",
      "                South       94.0\n",
      "                West        52.0\n",
      "Tablet          Central     96.0\n",
      "Tennis Racket   East        94.0\n",
      "Vacuum Cleaner  East       100.0\n",
      "Yoga Mat        Central     87.0\n",
      "Name: Sales, dtype: float64\n"
     ]
    }
   ],
   "source": [
    "# Total sale based on Product and Region\n",
    "total_sale = df.groupby(['Product','Region'])['Sales'].sum()\n",
    "print(total_sale)\n",
    "\n"
   ]
  },
  {
   "cell_type": "code",
   "execution_count": 6,
   "id": "0ad0220d-ee73-44d8-8e63-971fc67f4ba0",
   "metadata": {},
   "outputs": [
    {
     "name": "stdout",
     "output_type": "stream",
     "text": [
      "                mean       sum  count\n",
      "Region                               \n",
      "Central  1774.348333  21292.18     12\n",
      "East     2455.139000  24551.39     10\n",
      "North    1938.275000  23259.30     12\n",
      "South    1605.415000   6421.66      4\n",
      "West     1980.611000  19806.11     10\n"
     ]
    }
   ],
   "source": [
    "# Apply multiple agg function\n",
    "grouped_agg = df.groupby('Region')['Value'].agg(['mean','sum','count'])\n",
    "print(grouped_agg)\n"
   ]
  },
  {
   "cell_type": "code",
   "execution_count": 14,
   "id": "1da55186-41e4-4f24-8125-16851fc1f2f3",
   "metadata": {},
   "outputs": [],
   "source": [
    "#MERGING AND JOINING DATAFRAMES\n",
    "#sample dataframe\n",
    "df1 = pd.DataFrame({'Key':['A','B','C'],'Value1':['1','2','3']})\n",
    "df2 = pd.DataFrame({'Key':['A','B','D'],'Value2':['4','5','6']})\n"
   ]
  },
  {
   "cell_type": "code",
   "execution_count": 15,
   "id": "26b3e11d-a76e-46b1-a25e-7df252681bcf",
   "metadata": {},
   "outputs": [
    {
     "data": {
      "text/html": [
       "<div>\n",
       "<style scoped>\n",
       "    .dataframe tbody tr th:only-of-type {\n",
       "        vertical-align: middle;\n",
       "    }\n",
       "\n",
       "    .dataframe tbody tr th {\n",
       "        vertical-align: top;\n",
       "    }\n",
       "\n",
       "    .dataframe thead th {\n",
       "        text-align: right;\n",
       "    }\n",
       "</style>\n",
       "<table border=\"1\" class=\"dataframe\">\n",
       "  <thead>\n",
       "    <tr style=\"text-align: right;\">\n",
       "      <th></th>\n",
       "      <th>Key</th>\n",
       "      <th>Value2</th>\n",
       "    </tr>\n",
       "  </thead>\n",
       "  <tbody>\n",
       "    <tr>\n",
       "      <th>0</th>\n",
       "      <td>A</td>\n",
       "      <td>4</td>\n",
       "    </tr>\n",
       "    <tr>\n",
       "      <th>1</th>\n",
       "      <td>B</td>\n",
       "      <td>5</td>\n",
       "    </tr>\n",
       "    <tr>\n",
       "      <th>2</th>\n",
       "      <td>D</td>\n",
       "      <td>6</td>\n",
       "    </tr>\n",
       "  </tbody>\n",
       "</table>\n",
       "</div>"
      ],
      "text/plain": [
       "  Key Value2\n",
       "0   A      4\n",
       "1   B      5\n",
       "2   D      6"
      ]
     },
     "execution_count": 15,
     "metadata": {},
     "output_type": "execute_result"
    }
   ],
   "source": [
    "df1\n",
    "df2"
   ]
  },
  {
   "cell_type": "code",
   "execution_count": 16,
   "id": "295647d3-b099-4da5-bfec-aaddf01f902b",
   "metadata": {},
   "outputs": [
    {
     "data": {
      "text/html": [
       "<div>\n",
       "<style scoped>\n",
       "    .dataframe tbody tr th:only-of-type {\n",
       "        vertical-align: middle;\n",
       "    }\n",
       "\n",
       "    .dataframe tbody tr th {\n",
       "        vertical-align: top;\n",
       "    }\n",
       "\n",
       "    .dataframe thead th {\n",
       "        text-align: right;\n",
       "    }\n",
       "</style>\n",
       "<table border=\"1\" class=\"dataframe\">\n",
       "  <thead>\n",
       "    <tr style=\"text-align: right;\">\n",
       "      <th></th>\n",
       "      <th>Key</th>\n",
       "      <th>Value1</th>\n",
       "      <th>Value2</th>\n",
       "    </tr>\n",
       "  </thead>\n",
       "  <tbody>\n",
       "    <tr>\n",
       "      <th>0</th>\n",
       "      <td>A</td>\n",
       "      <td>1</td>\n",
       "      <td>4</td>\n",
       "    </tr>\n",
       "    <tr>\n",
       "      <th>1</th>\n",
       "      <td>B</td>\n",
       "      <td>2</td>\n",
       "      <td>5</td>\n",
       "    </tr>\n",
       "  </tbody>\n",
       "</table>\n",
       "</div>"
      ],
      "text/plain": [
       "  Key Value1 Value2\n",
       "0   A      1      4\n",
       "1   B      2      5"
      ]
     },
     "execution_count": 16,
     "metadata": {},
     "output_type": "execute_result"
    }
   ],
   "source": [
    "#Merge DF on based on Key Column\n",
    "pd.merge(df1,df2,on='Key',how='inner')\n"
   ]
  },
  {
   "cell_type": "code",
   "execution_count": 17,
   "id": "a6e4b4c3-8dbe-4915-95a1-c98a922036f9",
   "metadata": {},
   "outputs": [
    {
     "data": {
      "text/html": [
       "<div>\n",
       "<style scoped>\n",
       "    .dataframe tbody tr th:only-of-type {\n",
       "        vertical-align: middle;\n",
       "    }\n",
       "\n",
       "    .dataframe tbody tr th {\n",
       "        vertical-align: top;\n",
       "    }\n",
       "\n",
       "    .dataframe thead th {\n",
       "        text-align: right;\n",
       "    }\n",
       "</style>\n",
       "<table border=\"1\" class=\"dataframe\">\n",
       "  <thead>\n",
       "    <tr style=\"text-align: right;\">\n",
       "      <th></th>\n",
       "      <th>Key</th>\n",
       "      <th>Value1</th>\n",
       "      <th>Value2</th>\n",
       "    </tr>\n",
       "  </thead>\n",
       "  <tbody>\n",
       "    <tr>\n",
       "      <th>0</th>\n",
       "      <td>A</td>\n",
       "      <td>1</td>\n",
       "      <td>4</td>\n",
       "    </tr>\n",
       "    <tr>\n",
       "      <th>1</th>\n",
       "      <td>B</td>\n",
       "      <td>2</td>\n",
       "      <td>5</td>\n",
       "    </tr>\n",
       "    <tr>\n",
       "      <th>2</th>\n",
       "      <td>C</td>\n",
       "      <td>3</td>\n",
       "      <td>NaN</td>\n",
       "    </tr>\n",
       "    <tr>\n",
       "      <th>3</th>\n",
       "      <td>D</td>\n",
       "      <td>NaN</td>\n",
       "      <td>6</td>\n",
       "    </tr>\n",
       "  </tbody>\n",
       "</table>\n",
       "</div>"
      ],
      "text/plain": [
       "  Key Value1 Value2\n",
       "0   A      1      4\n",
       "1   B      2      5\n",
       "2   C      3    NaN\n",
       "3   D    NaN      6"
      ]
     },
     "execution_count": 17,
     "metadata": {},
     "output_type": "execute_result"
    }
   ],
   "source": [
    "pd.merge(df1,df2,on='Key',how='outer')"
   ]
  },
  {
   "cell_type": "code",
   "execution_count": 18,
   "id": "73183f36-fc61-439b-a0ac-da54fdee1f7b",
   "metadata": {},
   "outputs": [
    {
     "data": {
      "text/html": [
       "<div>\n",
       "<style scoped>\n",
       "    .dataframe tbody tr th:only-of-type {\n",
       "        vertical-align: middle;\n",
       "    }\n",
       "\n",
       "    .dataframe tbody tr th {\n",
       "        vertical-align: top;\n",
       "    }\n",
       "\n",
       "    .dataframe thead th {\n",
       "        text-align: right;\n",
       "    }\n",
       "</style>\n",
       "<table border=\"1\" class=\"dataframe\">\n",
       "  <thead>\n",
       "    <tr style=\"text-align: right;\">\n",
       "      <th></th>\n",
       "      <th>Key</th>\n",
       "      <th>Value1</th>\n",
       "      <th>Value2</th>\n",
       "    </tr>\n",
       "  </thead>\n",
       "  <tbody>\n",
       "    <tr>\n",
       "      <th>0</th>\n",
       "      <td>A</td>\n",
       "      <td>1</td>\n",
       "      <td>4</td>\n",
       "    </tr>\n",
       "    <tr>\n",
       "      <th>1</th>\n",
       "      <td>B</td>\n",
       "      <td>2</td>\n",
       "      <td>5</td>\n",
       "    </tr>\n",
       "    <tr>\n",
       "      <th>2</th>\n",
       "      <td>C</td>\n",
       "      <td>3</td>\n",
       "      <td>NaN</td>\n",
       "    </tr>\n",
       "  </tbody>\n",
       "</table>\n",
       "</div>"
      ],
      "text/plain": [
       "  Key Value1 Value2\n",
       "0   A      1      4\n",
       "1   B      2      5\n",
       "2   C      3    NaN"
      ]
     },
     "execution_count": 18,
     "metadata": {},
     "output_type": "execute_result"
    }
   ],
   "source": [
    "pd.merge(df1,df2,on='Key',how='left')"
   ]
  },
  {
   "cell_type": "code",
   "execution_count": null,
   "id": "77b6857d-2092-4f42-a2a8-00b11e0a0001",
   "metadata": {},
   "outputs": [],
   "source": []
  }
 ],
 "metadata": {
  "kernelspec": {
   "display_name": "Python 3 (ipykernel)",
   "language": "python",
   "name": "python3"
  },
  "language_info": {
   "codemirror_mode": {
    "name": "ipython",
    "version": 3
   },
   "file_extension": ".py",
   "mimetype": "text/x-python",
   "name": "python",
   "nbconvert_exporter": "python",
   "pygments_lexer": "ipython3",
   "version": "3.10.10"
  }
 },
 "nbformat": 4,
 "nbformat_minor": 5
}
