{
 "cells": [
  {
   "cell_type": "markdown",
   "id": "0f76aa92-1ae0-4681-ad0b-48a06327f354",
   "metadata": {},
   "source": [
    "Pandas is a Python library used for data manipulation and analysis. It provides data structures and operations for working with numerical tables and time series. The name \"Pandas\" is derived from \"Panel Data\" and \"Python Data Analysis\". \n",
    "> Series - 1D\n",
    "> DataFrame - 2D"
   ]
  },
  {
   "cell_type": "code",
   "execution_count": 1,
   "id": "538e7996-8426-4f8c-b9f5-90a22002bb4d",
   "metadata": {},
   "outputs": [
    {
     "name": "stdout",
     "output_type": "stream",
     "text": [
      "Looking in indexes: https://artifactory.airbus.corp/artifactory/api/pypi/r-airbus-pypi-virtual/simple\n",
      "Collecting pandas\n",
      "  Downloading https://artifactory.airbus.corp/artifactory/api/pypi/r-airbus-pypi-virtual/packages/packages/31/9e/6ebb433de864a6cd45716af52a4d7a8c3c9aaf3a98368e61db9e69e69a9c/pandas-2.2.3-cp310-cp310-win_amd64.whl (11.6 MB)\n",
      "     ---------------------------------------- 0.0/11.6 MB ? eta -:--:--\n",
      "      --------------------------------------- 0.2/11.6 MB ? eta -:--:--\n",
      "      --------------------------------------- 0.2/11.6 MB ? eta -:--:--\n",
      "      --------------------------------------- 0.2/11.6 MB ? eta -:--:--\n",
      "     -- ------------------------------------- 0.8/11.6 MB 4.4 MB/s eta 0:00:03\n",
      "     -- ------------------------------------- 0.8/11.6 MB 4.4 MB/s eta 0:00:03\n",
      "     -- ------------------------------------- 0.8/11.6 MB 4.4 MB/s eta 0:00:03\n",
      "     -- ------------------------------------- 0.8/11.6 MB 2.6 MB/s eta 0:00:05\n",
      "     ------ --------------------------------- 1.8/11.6 MB 5.3 MB/s eta 0:00:02\n",
      "     ------ --------------------------------- 1.8/11.6 MB 5.3 MB/s eta 0:00:02\n",
      "     ------ --------------------------------- 1.8/11.6 MB 5.3 MB/s eta 0:00:02\n",
      "     ------------ --------------------------- 3.7/11.6 MB 7.2 MB/s eta 0:00:02\n",
      "     ------------- -------------------------- 3.9/11.6 MB 7.6 MB/s eta 0:00:02\n",
      "     ------------- -------------------------- 3.9/11.6 MB 7.6 MB/s eta 0:00:02\n",
      "     -------------- ------------------------- 4.2/11.6 MB 6.5 MB/s eta 0:00:02\n",
      "     --------------------------- ------------ 8.1/11.6 MB 11.5 MB/s eta 0:00:01\n",
      "     ---------------------------- ----------- 8.2/11.6 MB 11.6 MB/s eta 0:00:01\n",
      "     ---------------------------- ----------- 8.2/11.6 MB 11.6 MB/s eta 0:00:01\n",
      "     ----------------------------------- --- 10.5/11.6 MB 14.9 MB/s eta 0:00:01\n",
      "     --------------------------------------  11.6/11.6 MB 19.8 MB/s eta 0:00:01\n",
      "     --------------------------------------- 11.6/11.6 MB 18.2 MB/s eta 0:00:00\n",
      "Collecting pytz>=2020.1\n",
      "  Downloading https://artifactory.airbus.corp/artifactory/api/pypi/r-airbus-pypi-virtual/packages/packages/81/c4/34e93fe5f5429d7570ec1fa436f1986fb1f00c3e0f43a589fe2bbcd22c3f/pytz-2025.2-py2.py3-none-any.whl (509 kB)\n",
      "     ---------------------------------------- 0.0/509.2 kB ? eta -:--:--\n",
      "     ------------------------------------- 509.2/509.2 kB 31.2 MB/s eta 0:00:00\n",
      "Requirement already satisfied: numpy>=1.22.4 in c:\\users\\spanbagv\\appdata\\local\\miniforge3\\lib\\site-packages (from pandas) (2.1.3)\n",
      "Requirement already satisfied: python-dateutil>=2.8.2 in c:\\users\\spanbagv\\appdata\\local\\miniforge3\\lib\\site-packages (from pandas) (2.9.0.post0)\n",
      "Collecting tzdata>=2022.7\n",
      "  Downloading https://artifactory.airbus.corp/artifactory/api/pypi/r-airbus-pypi-virtual/packages/packages/5c/23/c7abc0ca0a1526a0774eca151daeb8de62ec457e77262b66b359c3c7679e/tzdata-2025.2-py2.py3-none-any.whl (347 kB)\n",
      "     ---------------------------------------- 0.0/347.8 kB ? eta -:--:--\n",
      "     ------------------------------------- 347.8/347.8 kB 21.1 MB/s eta 0:00:00\n",
      "Requirement already satisfied: six>=1.5 in c:\\users\\spanbagv\\appdata\\local\\miniforge3\\lib\\site-packages (from python-dateutil>=2.8.2->pandas) (1.17.0)\n",
      "Installing collected packages: pytz, tzdata, pandas\n",
      "Successfully installed pandas-2.2.3 pytz-2025.2 tzdata-2025.2\n"
     ]
    }
   ],
   "source": [
    "!pip install pandas"
   ]
  },
  {
   "cell_type": "code",
   "execution_count": 2,
   "id": "140aa983-28f4-4cc6-b4bf-96399108c436",
   "metadata": {},
   "outputs": [],
   "source": [
    "import pandas as pd\n"
   ]
  },
  {
   "cell_type": "code",
   "execution_count": 3,
   "id": "cc23e4dc-9163-41af-b080-d4676ec3ce96",
   "metadata": {},
   "outputs": [
    {
     "name": "stdout",
     "output_type": "stream",
     "text": [
      "0    1\n",
      "1    2\n",
      "2    3\n",
      "3    4\n",
      "4    5\n",
      "dtype: int64\n"
     ]
    }
   ],
   "source": [
    "# SERIES - It is a 1D array like object wihivh can hold any data type \n",
    "data = [1,2,3,4,5]\n",
    "series = pd.Series(data)\n",
    "print(series)"
   ]
  },
  {
   "cell_type": "code",
   "execution_count": 4,
   "id": "207ea773-779e-4ff6-80e1-1c3ce35e7591",
   "metadata": {},
   "outputs": [
    {
     "name": "stdout",
     "output_type": "stream",
     "text": [
      "a    1\n",
      "b    2\n",
      "c    3\n",
      "dtype: int64\n"
     ]
    }
   ],
   "source": [
    "# create a series from dictionary elements\n",
    "data_dict ={'a':1,'b':2,'c':3}\n",
    "series_dict = pd.Series(data_dict)\n",
    "print(series_dict)"
   ]
  },
  {
   "cell_type": "code",
   "execution_count": 7,
   "id": "faaaf0dd-7631-45c3-89b7-85c249e21c71",
   "metadata": {},
   "outputs": [
    {
     "data": {
      "text/plain": [
       "a    10\n",
       "b    20\n",
       "c    30\n",
       "dtype: int64"
      ]
     },
     "execution_count": 7,
     "metadata": {},
     "output_type": "execute_result"
    }
   ],
   "source": [
    "# Creating custum indexes\n",
    "data_ind = [10,20,30]\n",
    "ind = ['a','b','c']\n",
    "pd.Series(data_ind,index=ind)\n"
   ]
  },
  {
   "cell_type": "code",
   "execution_count": 9,
   "id": "c2916b89-049c-46e1-b173-b29fb6802916",
   "metadata": {},
   "outputs": [
    {
     "name": "stdout",
     "output_type": "stream",
     "text": [
      "     Name  Age       City\n",
      "0   Krish   10  Bangalore\n",
      "1   Rajat   20    Chicago\n",
      "2  Shreya   30      Texas\n"
     ]
    }
   ],
   "source": [
    "#### DATA FRAME = 2D tabular structure \n",
    "# Create a dataframe from dictionary of list\n",
    "\n",
    "sample_data = {\n",
    "    'Name':['Krish','Rajat','Shreya'],\n",
    "    'Age' :[10,20,30],\n",
    "    'City':['Bangalore','Chicago','Texas']\n",
    "}\n",
    "\n",
    "df = pd.DataFrame(sample_data)\n",
    "print(df)\n",
    "\n",
    "\n",
    "\n"
   ]
  },
  {
   "cell_type": "code",
   "execution_count": 10,
   "id": "94de9bbb-09d7-417c-8fa0-bed2d76d5ce4",
   "metadata": {},
   "outputs": [
    {
     "name": "stdout",
     "output_type": "stream",
     "text": [
      "       Name  Age       City\n",
      "0  Shreyasi   23  Bangalore\n",
      "1     Shrey   23  Bangalore\n",
      "2    Shreya   23  Bangalore\n",
      "3  Shreyasi   23  Bangalore\n",
      "4    Shresi   23  Bangalore\n"
     ]
    }
   ],
   "source": [
    "# Creating dataframe from a list of dictionary\n",
    "sample_list = [\n",
    "    {'Name':'Shreyasi','Age':23,'City':'Bangalore'},\n",
    "    {'Name':'Shrey','Age':23,'City':'Bangalore'},\n",
    "    {'Name':'Shreya','Age':23,'City':'Bangalore'},\n",
    "    {'Name':'Shreyasi','Age':23,'City':'Bangalore'},\n",
    "    {'Name':'Shresi','Age':23,'City':'Bangalore'},\n",
    "]\n",
    "\n",
    "df = pd.DataFrame(sample_list)\n",
    "print(df)\n"
   ]
  },
  {
   "cell_type": "code",
   "execution_count": 13,
   "id": "1ecc3762-fa55-4497-9288-d249d34f24b1",
   "metadata": {},
   "outputs": [
    {
     "data": {
      "text/html": [
       "<div>\n",
       "<style scoped>\n",
       "    .dataframe tbody tr th:only-of-type {\n",
       "        vertical-align: middle;\n",
       "    }\n",
       "\n",
       "    .dataframe tbody tr th {\n",
       "        vertical-align: top;\n",
       "    }\n",
       "\n",
       "    .dataframe thead th {\n",
       "        text-align: right;\n",
       "    }\n",
       "</style>\n",
       "<table border=\"1\" class=\"dataframe\">\n",
       "  <thead>\n",
       "    <tr style=\"text-align: right;\">\n",
       "      <th></th>\n",
       "      <th>Calendar Month-Year</th>\n",
       "      <th>Financial Product</th>\n",
       "      <th>Location CC Grp.</th>\n",
       "      <th>Section</th>\n",
       "      <th>Stage</th>\n",
       "      <th>Quantity</th>\n",
       "    </tr>\n",
       "  </thead>\n",
       "  <tbody>\n",
       "    <tr>\n",
       "      <th>383</th>\n",
       "      <td>12-25</td>\n",
       "      <td>A350-1000</td>\n",
       "      <td>Airbus Aerostructure</td>\n",
       "      <td>WUC</td>\n",
       "      <td>6</td>\n",
       "      <td>386</td>\n",
       "    </tr>\n",
       "    <tr>\n",
       "      <th>384</th>\n",
       "      <td>12-25</td>\n",
       "      <td>A350-1000</td>\n",
       "      <td>PI</td>\n",
       "      <td>WUC</td>\n",
       "      <td>7</td>\n",
       "      <td>387</td>\n",
       "    </tr>\n",
       "    <tr>\n",
       "      <th>385</th>\n",
       "      <td>12-25</td>\n",
       "      <td>A350F</td>\n",
       "      <td>Airbus Aerostructure</td>\n",
       "      <td>WUC</td>\n",
       "      <td>4</td>\n",
       "      <td>388</td>\n",
       "    </tr>\n",
       "    <tr>\n",
       "      <th>386</th>\n",
       "      <td>12-25</td>\n",
       "      <td>A350F</td>\n",
       "      <td>Airbus Aerostructure</td>\n",
       "      <td>WUC</td>\n",
       "      <td>6</td>\n",
       "      <td>389</td>\n",
       "    </tr>\n",
       "    <tr>\n",
       "      <th>387</th>\n",
       "      <td>12-25</td>\n",
       "      <td>A350F</td>\n",
       "      <td>PI</td>\n",
       "      <td>WUC</td>\n",
       "      <td>7</td>\n",
       "      <td>390</td>\n",
       "    </tr>\n",
       "  </tbody>\n",
       "</table>\n",
       "</div>"
      ],
      "text/plain": [
       "    Calendar Month-Year Financial Product      Location CC Grp. Section  \\\n",
       "383               12-25         A350-1000  Airbus Aerostructure     WUC   \n",
       "384               12-25         A350-1000                    PI     WUC   \n",
       "385               12-25             A350F  Airbus Aerostructure     WUC   \n",
       "386               12-25             A350F  Airbus Aerostructure     WUC   \n",
       "387               12-25             A350F                    PI     WUC   \n",
       "\n",
       "     Stage  Quantity  \n",
       "383      6       386  \n",
       "384      7       387  \n",
       "385      4       388  \n",
       "386      6       389  \n",
       "387      7       390  "
      ]
     },
     "execution_count": 13,
     "metadata": {},
     "output_type": "execute_result"
    }
   ],
   "source": [
    "#Reading from a Csv file\n",
    "df = pd.read_csv('Practice.csv')\n",
    "#top 5 elements\n",
    "df.head(10)\n",
    "# last elements\n",
    "df.tail(5)\n",
    "\n",
    "\n"
   ]
  },
  {
   "cell_type": "code",
   "execution_count": 14,
   "id": "deb74762-e5f9-40be-b22b-13247e8b51fa",
   "metadata": {},
   "outputs": [
    {
     "name": "stdout",
     "output_type": "stream",
     "text": [
      "     Name  Age       City\n",
      "0   Krish   10  Bangalore\n",
      "1   Rajat   20    Chicago\n",
      "2  Shreya   30      Texas\n"
     ]
    }
   ],
   "source": [
    "# Accessing data from dataframe\n",
    "sample_data = {\n",
    "    'Name':['Krish','Rajat','Shreya'],\n",
    "    'Age' :[10,20,30],\n",
    "    'City':['Bangalore','Chicago','Texas']\n",
    "}\n",
    "\n",
    "df = pd.DataFrame(sample_data)\n",
    "print(df)"
   ]
  },
  {
   "cell_type": "code",
   "execution_count": 18,
   "id": "ad72b737-b353-4746-a903-9b55f75bfc2e",
   "metadata": {},
   "outputs": [
    {
     "data": {
      "text/plain": [
       "Name        Krish\n",
       "Age            10\n",
       "City    Bangalore\n",
       "Name: 0, dtype: object"
      ]
     },
     "execution_count": 18,
     "metadata": {},
     "output_type": "execute_result"
    }
   ],
   "source": [
    "# Pickup only name column\n",
    "df['Name']\n",
    "type(df['Name'])  # It will be series\n",
    "df.loc[0] # for row index"
   ]
  },
  {
   "cell_type": "code",
   "execution_count": 23,
   "id": "d8854fa8-9bfb-4fe9-afad-902c5d8f2b43",
   "metadata": {},
   "outputs": [
    {
     "ename": "NameError",
     "evalue": "name 'ser' is not defined",
     "output_type": "error",
     "traceback": [
      "\u001b[1;31m---------------------------------------------------------------------------\u001b[0m",
      "\u001b[1;31mNameError\u001b[0m                                 Traceback (most recent call last)",
      "Cell \u001b[1;32mIn[23], line 1\u001b[0m\n\u001b[1;32m----> 1\u001b[0m \u001b[43mser\u001b[49m\u001b[38;5;241m.\u001b[39miloc[\u001b[38;5;241m0\u001b[39m][\u001b[38;5;241m1\u001b[39m]\n",
      "\u001b[1;31mNameError\u001b[0m: name 'ser' is not defined"
     ]
    }
   ],
   "source": [
    "df.iloc[0] # for column index"
   ]
  },
  {
   "cell_type": "code",
   "execution_count": 24,
   "id": "30ab0523-a31b-4362-8ca3-62775e3839aa",
   "metadata": {},
   "outputs": [
    {
     "data": {
      "text/plain": [
       "0     Krish\n",
       "1     Rajat\n",
       "2    Shreya\n",
       "Name: Name, dtype: object"
      ]
     },
     "execution_count": 24,
     "metadata": {},
     "output_type": "execute_result"
    }
   ],
   "source": [
    "df['Name']"
   ]
  },
  {
   "cell_type": "code",
   "execution_count": 25,
   "id": "5ddef901-90af-446b-8448-fdc7b246d7bf",
   "metadata": {},
   "outputs": [
    {
     "data": {
      "text/plain": [
       "np.int64(20)"
      ]
     },
     "execution_count": 25,
     "metadata": {},
     "output_type": "execute_result"
    }
   ],
   "source": [
    "df.at[1,'Age']"
   ]
  },
  {
   "cell_type": "code",
   "execution_count": 28,
   "id": "6ad53d55-70a3-4cf6-b612-0f0d9e42af7e",
   "metadata": {},
   "outputs": [
    {
     "data": {
      "text/plain": [
       "'Texas'"
      ]
     },
     "execution_count": 28,
     "metadata": {},
     "output_type": "execute_result"
    }
   ],
   "source": [
    "df.iat[2,2]"
   ]
  },
  {
   "cell_type": "code",
   "execution_count": 29,
   "id": "1568461e-6335-493e-a099-5d85a8112b86",
   "metadata": {},
   "outputs": [
    {
     "name": "stdout",
     "output_type": "stream",
     "text": [
      "     Name  Age       City  Salary\n",
      "0   Krish   10  Bangalore    4000\n",
      "1   Rajat   20    Chicago    6000\n",
      "2  Shreya   30      Texas    7000\n"
     ]
    }
   ],
   "source": [
    "# data manipulation with DF\n",
    "df['Salary'] = [4000,6000,7000] # add column\n",
    "print(df)\n"
   ]
  },
  {
   "cell_type": "code",
   "execution_count": 30,
   "id": "5a4a4680-12ca-4dbc-86d7-fe8e320b7f2a",
   "metadata": {},
   "outputs": [
    {
     "data": {
      "text/html": [
       "<div>\n",
       "<style scoped>\n",
       "    .dataframe tbody tr th:only-of-type {\n",
       "        vertical-align: middle;\n",
       "    }\n",
       "\n",
       "    .dataframe tbody tr th {\n",
       "        vertical-align: top;\n",
       "    }\n",
       "\n",
       "    .dataframe thead th {\n",
       "        text-align: right;\n",
       "    }\n",
       "</style>\n",
       "<table border=\"1\" class=\"dataframe\">\n",
       "  <thead>\n",
       "    <tr style=\"text-align: right;\">\n",
       "      <th></th>\n",
       "      <th>Name</th>\n",
       "      <th>Age</th>\n",
       "      <th>City</th>\n",
       "    </tr>\n",
       "  </thead>\n",
       "  <tbody>\n",
       "    <tr>\n",
       "      <th>0</th>\n",
       "      <td>Krish</td>\n",
       "      <td>10</td>\n",
       "      <td>Bangalore</td>\n",
       "    </tr>\n",
       "    <tr>\n",
       "      <th>1</th>\n",
       "      <td>Rajat</td>\n",
       "      <td>20</td>\n",
       "      <td>Chicago</td>\n",
       "    </tr>\n",
       "    <tr>\n",
       "      <th>2</th>\n",
       "      <td>Shreya</td>\n",
       "      <td>30</td>\n",
       "      <td>Texas</td>\n",
       "    </tr>\n",
       "  </tbody>\n",
       "</table>\n",
       "</div>"
      ],
      "text/plain": [
       "     Name  Age       City\n",
       "0   Krish   10  Bangalore\n",
       "1   Rajat   20    Chicago\n",
       "2  Shreya   30      Texas"
      ]
     },
     "execution_count": 30,
     "metadata": {},
     "output_type": "execute_result"
    }
   ],
   "source": [
    "df.drop('Salary',axis = 1, inplace=True) # inplace --for permanent drop otherwise temp drop\n",
    "df # axis to check column wise as well"
   ]
  },
  {
   "cell_type": "code",
   "execution_count": 31,
   "id": "c5a09209-9144-482d-b369-5974baae5b71",
   "metadata": {},
   "outputs": [
    {
     "data": {
      "text/html": [
       "<div>\n",
       "<style scoped>\n",
       "    .dataframe tbody tr th:only-of-type {\n",
       "        vertical-align: middle;\n",
       "    }\n",
       "\n",
       "    .dataframe tbody tr th {\n",
       "        vertical-align: top;\n",
       "    }\n",
       "\n",
       "    .dataframe thead th {\n",
       "        text-align: right;\n",
       "    }\n",
       "</style>\n",
       "<table border=\"1\" class=\"dataframe\">\n",
       "  <thead>\n",
       "    <tr style=\"text-align: right;\">\n",
       "      <th></th>\n",
       "      <th>Name</th>\n",
       "      <th>Age</th>\n",
       "      <th>City</th>\n",
       "    </tr>\n",
       "  </thead>\n",
       "  <tbody>\n",
       "    <tr>\n",
       "      <th>0</th>\n",
       "      <td>Krish</td>\n",
       "      <td>11</td>\n",
       "      <td>Bangalore</td>\n",
       "    </tr>\n",
       "    <tr>\n",
       "      <th>1</th>\n",
       "      <td>Rajat</td>\n",
       "      <td>21</td>\n",
       "      <td>Chicago</td>\n",
       "    </tr>\n",
       "    <tr>\n",
       "      <th>2</th>\n",
       "      <td>Shreya</td>\n",
       "      <td>31</td>\n",
       "      <td>Texas</td>\n",
       "    </tr>\n",
       "  </tbody>\n",
       "</table>\n",
       "</div>"
      ],
      "text/plain": [
       "     Name  Age       City\n",
       "0   Krish   11  Bangalore\n",
       "1   Rajat   21    Chicago\n",
       "2  Shreya   31      Texas"
      ]
     },
     "execution_count": 31,
     "metadata": {},
     "output_type": "execute_result"
    }
   ],
   "source": [
    "df['Age'] = df['Age']+1\n",
    "df"
   ]
  },
  {
   "cell_type": "code",
   "execution_count": 32,
   "id": "d614526b-e6ed-4c9f-b88b-d6d4c06153c9",
   "metadata": {},
   "outputs": [
    {
     "data": {
      "text/html": [
       "<div>\n",
       "<style scoped>\n",
       "    .dataframe tbody tr th:only-of-type {\n",
       "        vertical-align: middle;\n",
       "    }\n",
       "\n",
       "    .dataframe tbody tr th {\n",
       "        vertical-align: top;\n",
       "    }\n",
       "\n",
       "    .dataframe thead th {\n",
       "        text-align: right;\n",
       "    }\n",
       "</style>\n",
       "<table border=\"1\" class=\"dataframe\">\n",
       "  <thead>\n",
       "    <tr style=\"text-align: right;\">\n",
       "      <th></th>\n",
       "      <th>Stage</th>\n",
       "      <th>Quantity</th>\n",
       "    </tr>\n",
       "  </thead>\n",
       "  <tbody>\n",
       "    <tr>\n",
       "      <th>count</th>\n",
       "      <td>388.000000</td>\n",
       "      <td>388.000000</td>\n",
       "    </tr>\n",
       "    <tr>\n",
       "      <th>mean</th>\n",
       "      <td>5.670103</td>\n",
       "      <td>196.500000</td>\n",
       "    </tr>\n",
       "    <tr>\n",
       "      <th>std</th>\n",
       "      <td>1.249055</td>\n",
       "      <td>112.150197</td>\n",
       "    </tr>\n",
       "    <tr>\n",
       "      <th>min</th>\n",
       "      <td>4.000000</td>\n",
       "      <td>3.000000</td>\n",
       "    </tr>\n",
       "    <tr>\n",
       "      <th>25%</th>\n",
       "      <td>4.000000</td>\n",
       "      <td>99.750000</td>\n",
       "    </tr>\n",
       "    <tr>\n",
       "      <th>50%</th>\n",
       "      <td>6.000000</td>\n",
       "      <td>196.500000</td>\n",
       "    </tr>\n",
       "    <tr>\n",
       "      <th>75%</th>\n",
       "      <td>7.000000</td>\n",
       "      <td>293.250000</td>\n",
       "    </tr>\n",
       "    <tr>\n",
       "      <th>max</th>\n",
       "      <td>7.000000</td>\n",
       "      <td>390.000000</td>\n",
       "    </tr>\n",
       "  </tbody>\n",
       "</table>\n",
       "</div>"
      ],
      "text/plain": [
       "            Stage    Quantity\n",
       "count  388.000000  388.000000\n",
       "mean     5.670103  196.500000\n",
       "std      1.249055  112.150197\n",
       "min      4.000000    3.000000\n",
       "25%      4.000000   99.750000\n",
       "50%      6.000000  196.500000\n",
       "75%      7.000000  293.250000\n",
       "max      7.000000  390.000000"
      ]
     },
     "execution_count": 32,
     "metadata": {},
     "output_type": "execute_result"
    }
   ],
   "source": [
    "data=pd.read_csv('Practice.csv')\n",
    "data.describe()"
   ]
  },
  {
   "cell_type": "code",
   "execution_count": null,
   "id": "b5aece9e-aa5c-43ca-b6ba-de4fb0692d31",
   "metadata": {},
   "outputs": [],
   "source": []
  }
 ],
 "metadata": {
  "kernelspec": {
   "display_name": "Python 3 (ipykernel)",
   "language": "python",
   "name": "python3"
  },
  "language_info": {
   "codemirror_mode": {
    "name": "ipython",
    "version": 3
   },
   "file_extension": ".py",
   "mimetype": "text/x-python",
   "name": "python",
   "nbconvert_exporter": "python",
   "pygments_lexer": "ipython3",
   "version": "3.10.10"
  }
 },
 "nbformat": 4,
 "nbformat_minor": 5
}
