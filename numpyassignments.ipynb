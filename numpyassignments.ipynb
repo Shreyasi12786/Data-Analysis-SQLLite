{
 "cells": [
  {
   "cell_type": "markdown",
   "id": "06189293",
   "metadata": {},
   "source": [
    "# Module: NumPy Assignments\n",
    "## Lesson: NumPy\n",
    "### Assignment 1: Array Creation and Manipulation\n",
    "\n",
    "1. Create a NumPy array of shape (5, 5) filled with random integers between 1 and 20. Replace all the elements in the third column with 1.\n",
    "2. Create a NumPy array of shape (4, 4) with values from 1 to 16. Replace the diagonal elements with 0.\n",
    "\n",
    "### Assignment 2: Array Indexing and Slicing\n",
    "\n",
    "1. Create a NumPy array of shape (6, 6) with values from 1 to 36. Extract the sub-array consisting of the 3rd to 5th rows and 2nd to 4th columns.\n",
    "2. Create a NumPy array of shape (5, 5) with random integers. Extract the elements on the border.\n",
    "\n",
    "### Assignment 3: Array Operations\n",
    "\n",
    "1. Create two NumPy arrays of shape (3, 4) filled with random integers. Perform element-wise addition, subtraction, multiplication, and division.\n",
    "2. Create a NumPy array of shape (4, 4) with values from 1 to 16. Compute the row-wise and column-wise sum.\n",
    "\n",
    "### Assignment 4: Statistical Operations\n",
    "\n",
    "1. Create a NumPy array of shape (5, 5) filled with random integers. Compute the mean, median, standard deviation, and variance of the array.\n",
    "2. Create a NumPy array of shape (3, 3) with values from 1 to 9. Normalize the array (i.e., scale the values to have a mean of 0 and a standard deviation of 1).\n",
    "\n",
    "### Assignment 5: Broadcasting\n",
    "\n",
    "1. Create a NumPy array of shape (3, 3) filled with random integers. Add a 1D array of shape (3,) to each row of the 2D array using broadcasting.\n",
    "2. Create a NumPy array of shape (4, 4) filled with random integers. Subtract a 1D array of shape (4,) from each column of the 2D array using broadcasting.\n",
    "\n",
    "### Assignment 6: Linear Algebra\n",
    "\n",
    "1. Create a NumPy array of shape (3, 3) representing a matrix. Compute its determinant, inverse, and eigenvalues.\n",
    "2. Create two NumPy arrays of shape (2, 3) and (3, 2). Perform matrix multiplication on these arrays.\n",
    "\n",
    "### Assignment 7: Advanced Array Manipulation\n",
    "\n",
    "1. Create a NumPy array of shape (3, 3) with values from 1 to 9. Reshape the array to shape (1, 9) and then to shape (9, 1).\n",
    "2. Create a NumPy array of shape (5, 5) filled with random integers. Flatten the array and then reshape it back to (5, 5).\n",
    "\n",
    "### Assignment 8: Fancy Indexing and Boolean Indexing\n",
    "\n",
    "1. Create a NumPy array of shape (5, 5) filled with random integers. Use fancy indexing to extract the elements at the corners of the array.\n",
    "2. Create a NumPy array of shape (4, 4) filled with random integers. Use boolean indexing to set all elements greater than 10 to 10.\n",
    "\n",
    "### Assignment 9: Structured Arrays\n",
    "\n",
    "1. Create a structured array with fields 'name' (string), 'age' (integer), and 'weight' (float). Add some data and sort the array by age.\n",
    "2. Create a structured array with fields 'x' and 'y' (both integers). Add some data and compute the Euclidean distance between each pair of points.\n",
    "\n",
    "### Assignment 10: Masked Arrays\n",
    "\n",
    "1. Create a masked array of shape (4, 4) with random integers and mask the elements greater than 10. Compute the sum of the unmasked elements.\n",
    "2. Create a masked array of shape (3, 3) with random integers and mask the diagonal elements. Replace the masked elements with the mean of the unmasked elements."
   ]
  },
  {
   "cell_type": "markdown",
   "id": "9f3b395a-1c0f-41a6-aed9-f0ff30a381b9",
   "metadata": {},
   "source": [
    "Assignment 1: Array Creation and Manipulation\n",
    "Create a NumPy array of shape (5, 5) filled with random integers between 1 and 20. Replace all the elements in the third column with 1.\n",
    "Create a NumPy array of shape (4, 4) with values from 1 to 16. Replace the diagonal elements with 0."
   ]
  },
  {
   "cell_type": "code",
   "execution_count": 1,
   "id": "3a79aef0-d09a-4a85-bd35-86385832db01",
   "metadata": {},
   "outputs": [],
   "source": [
    "\n",
    "import numpy as np"
   ]
  },
  {
   "cell_type": "code",
   "execution_count": 2,
   "id": "4bc28048-2b7e-4ea7-9f66-e68892a41c3b",
   "metadata": {},
   "outputs": [
    {
     "name": "stdout",
     "output_type": "stream",
     "text": [
      "[[ 9 11  6  3  6]\n",
      " [ 9  8 19 12 10]\n",
      " [ 6 11  4  8  4]\n",
      " [17 10 13  7 20]\n",
      " [17  6  9  5 11]]\n",
      "[[ 9 11  1  3  6]\n",
      " [ 9  8  1 12 10]\n",
      " [ 6 11  1  8  4]\n",
      " [17 10  1  7 20]\n",
      " [17  6  1  5 11]]\n"
     ]
    }
   ],
   "source": [
    "# 1. Create a NumPy array of shape (5, 5) filled with random integers between 1 and 20\n",
    "arr = np.random.randint(1,21, size=(5,5)) # use random int function\n",
    "print(arr)\n",
    "\n",
    "# Replace all the elements in the third column with 1.\n",
    "arr[: ,2] = 1\n",
    "print(arr)\n",
    "\n",
    "\n"
   ]
  },
  {
   "cell_type": "code",
   "execution_count": 3,
   "id": "ca73629a-1b81-4242-90b7-e7ff9a0581b6",
   "metadata": {},
   "outputs": [
    {
     "name": "stdout",
     "output_type": "stream",
     "text": [
      "[[ 1  2  3  4]\n",
      " [ 5  6  7  8]\n",
      " [ 9 10 11 12]\n",
      " [13 14 15 16]]\n",
      "[[ 0  2  3  4]\n",
      " [ 5  0  7  8]\n",
      " [ 9 10  0 12]\n",
      " [13 14 15  0]]\n"
     ]
    }
   ],
   "source": [
    "# Create a NumPy array of shape (4, 4) with values from 1 to 16.\n",
    "arr2 = np.arange(1,17).reshape(4,4)\n",
    "print(arr2)\n",
    "# Replace the diagonal elements with 0\n",
    "np.fill_diagonal(arr2,0)\n",
    "print(arr2)"
   ]
  },
  {
   "cell_type": "markdown",
   "id": "6105e2c2-7b0b-4a1d-8c45-f7d53b23176b",
   "metadata": {},
   "source": [
    "Assignment 2: Array Indexing and Slicing\n",
    "Create a NumPy array of shape (6, 6) with values from 1 to 36. Extract the sub-array consisting of the 3rd to 5th rows and 2nd to 4th columns.\n",
    "Create a NumPy array of shape (5, 5) with random integers. Extract the elements on the border."
   ]
  },
  {
   "cell_type": "code",
   "execution_count": 4,
   "id": "f14e5246-05d3-45a2-b723-b8db34cc3032",
   "metadata": {},
   "outputs": [
    {
     "name": "stdout",
     "output_type": "stream",
     "text": [
      "[[ 1  2  3  4  5  6]\n",
      " [ 7  8  9 10 11 12]\n",
      " [13 14 15 16 17 18]\n",
      " [19 20 21 22 23 24]\n",
      " [25 26 27 28 29 30]\n",
      " [31 32 33 34 35 36]]\n",
      "[[14 15 16]\n",
      " [20 21 22]\n",
      " [26 27 28]]\n"
     ]
    }
   ],
   "source": [
    "# Create a NumPy array of shape (6, 6) with values from 1 to 36. \n",
    "arr3 = np.arange(1,37).reshape(6,6)\n",
    "print(arr3)\n",
    "# Extract the sub-array consisting of the 3rd to 5th rows and 2nd to 4th columns.\n",
    "print(arr3[2:5,1:4])"
   ]
  },
  {
   "cell_type": "code",
   "execution_count": 5,
   "id": "b783f6b6-8c36-4e19-91f8-d60e4510cb60",
   "metadata": {},
   "outputs": [
    {
     "name": "stdout",
     "output_type": "stream",
     "text": [
      "[[ 9  3 25 12 19]\n",
      " [23  5 17  6  3]\n",
      " [12  1 19  7 13]\n",
      " [12 12  8  2 20]\n",
      " [23  6 21 21 21]]\n",
      "Border elements:\n",
      "[ 9  3 25 12 19 23  6 21 21 21 23 12 12  3 13 20]\n"
     ]
    }
   ],
   "source": [
    "# Create a NumPy array of shape (5, 5) with random integers. Extract the elements on the border\n",
    "arr4 = np.random.randint(1,26, size=(5,5))\n",
    "print(arr4)\n",
    "\n",
    "# Concatenate function\n",
    "# np.concatenate((array1, array2), axis=0)\n",
    "border_elements = np.concatenate((arr4[0, :], arr4[-1, :], arr4[1:-1, 0], arr4[1:-1, -1]))\n",
    "print(\"Border elements:\")\n",
    "print(border_elements)\n",
    "\n",
    "\n",
    "\n"
   ]
  },
  {
   "cell_type": "markdown",
   "id": "39563d8e-908b-4b55-8ce4-5996f59019d0",
   "metadata": {},
   "source": [
    "Assignment 3: Array Operations\n",
    "Create two NumPy arrays of shape (3, 4) filled with random integers. Perform element-wise addition, subtraction, multiplication, and division.\n",
    "Create a NumPy array of shape (4, 4) with values from 1 to 16. Compute the row-wise and column-wise sum."
   ]
  },
  {
   "cell_type": "code",
   "execution_count": 6,
   "id": "c45725ab-0ae9-42f5-b3df-734d8299953d",
   "metadata": {},
   "outputs": [
    {
     "name": "stdout",
     "output_type": "stream",
     "text": [
      "[[14  4 15 14]\n",
      " [12 14  7 13]\n",
      " [10 15 11  2]]\n",
      "[[-8  0  7  8]\n",
      " [ 6  0  5 -7]\n",
      " [ 0 -5 -5  0]]\n",
      "[[33  4 44 33]\n",
      " [27 49  6 30]\n",
      " [25 50 24  1]]\n",
      "[[0.27272727 1.         2.75       3.66666667]\n",
      " [3.         1.         6.         0.3       ]\n",
      " [1.         0.5        0.375      1.        ]]\n"
     ]
    }
   ],
   "source": [
    "# Create two NumPy arrays of shape (3, 4) filled with random integers. \n",
    "# Perform element-wise addition, subtraction, multiplication, and division.\n",
    "arr5 = np.random.randint(1,13, size=(3,4))\n",
    "arr6 = np.random.randint(1,13, size=(3,4))\n",
    "print(arr5 + arr6)\n",
    "print(arr5 - arr6)\n",
    "print(arr5 * arr6)\n",
    "print(arr5 / arr6)\n",
    "\n"
   ]
  },
  {
   "cell_type": "code",
   "execution_count": 7,
   "id": "19ea451b-ec2f-4022-a95b-50a641d2d106",
   "metadata": {},
   "outputs": [
    {
     "name": "stdout",
     "output_type": "stream",
     "text": [
      "[[ 1  2  3  4]\n",
      " [ 5  6  7  8]\n",
      " [ 9 10 11 12]\n",
      " [13 14 15 16]]\n",
      "[10 26 42 58]\n"
     ]
    }
   ],
   "source": [
    "# Create a NumPy array of shape (4, 4) with values from 1 to 16. Compute the row-wise and column-wise sum.\n",
    "arr7= np.arange(1,17).reshape(4,4)\n",
    "print(arr7)\n",
    "row_sum = np.sum(arr7, axis=1) # ROW SUM\n",
    "column_sum = np.sum(arr7, axis=0) # COLUMN SUM\n",
    "print(row_sum)\n"
   ]
  },
  {
   "cell_type": "markdown",
   "id": "adaa0884-bd01-4a07-b232-6d6457361764",
   "metadata": {},
   "source": [
    "Assignment 4: Statistical Operations\n",
    "Create a NumPy array of shape (5, 5) filled with random integers. Compute the mean, median, standard deviation, and variance of the array.\n",
    "Create a NumPy array of shape (3, 3) with values from 1 to 9. Normalize the array (i.e., scale the values to have a mean of 0 and a standard deviation of 1)."
   ]
  },
  {
   "cell_type": "code",
   "execution_count": 8,
   "id": "d02fcb15-78f6-43c1-893c-9b638ec5ef9e",
   "metadata": {},
   "outputs": [
    {
     "name": "stdout",
     "output_type": "stream",
     "text": [
      "11.16\n",
      "10.0\n"
     ]
    }
   ],
   "source": [
    "# Create a NumPy array of shape (5, 5) filled with random integers. \n",
    "# Compute the mean, median, standard deviation, and variance of the array.\n",
    "arr8 = np.random.randint(1,26, size=(5,5))\n",
    "mean = np.mean(arr8)\n",
    "print(mean)\n",
    "median = np.median(arr8)\n",
    "print(median)\n",
    "std_dev = np.std(arr8)\n",
    "variance = np.var(arr8)\n"
   ]
  },
  {
   "cell_type": "code",
   "execution_count": 9,
   "id": "e15dd471-b70a-4d16-979d-e535e277e1a9",
   "metadata": {},
   "outputs": [
    {
     "name": "stdout",
     "output_type": "stream",
     "text": [
      "[[-1.54919334 -1.161895   -0.77459667]\n",
      " [-0.38729833  0.          0.38729833]\n",
      " [ 0.77459667  1.161895    1.54919334]]\n"
     ]
    }
   ],
   "source": [
    "# Create a NumPy array of shape (3, 3) with values from 1 to 9. \n",
    "# Normalize the array (i.e., scale the values to have a mean of 0 and a standard deviation of 1).\n",
    "arr9 = np.arange(1,10).reshape(3,3)\n",
    "mean = np.mean(arr9)\n",
    "std_dev=np.std(arr9)\n",
    "norm = (arr9-mean)/std_dev\n",
    "print(norm)"
   ]
  },
  {
   "cell_type": "markdown",
   "id": "e1f75987-8540-4bf7-80e0-3f6821e89432",
   "metadata": {},
   "source": [
    "### Assignment 5: Broadcasting\n",
    "\n",
    "1. Create a NumPy array of shape (3, 3) filled with random integers. Add a 1D array of shape (3,) to each row of the 2D array using broadcasting.\n",
    "2. Create a NumPy array of shape (4, 4) filled with random integers. Subtract a 1D array of shape (4,) from each column of the 2D array using broadcasting."
   ]
  },
  {
   "cell_type": "code",
   "execution_count": 10,
   "id": "bc8d1185-8bd0-441d-92ff-e477027965da",
   "metadata": {},
   "outputs": [
    {
     "name": "stdout",
     "output_type": "stream",
     "text": [
      "[[ 5 13 11]\n",
      " [10 12 13]\n",
      " [12 18 18]]\n"
     ]
    }
   ],
   "source": [
    "# 1. Create a NumPy array of shape (3, 3) filled with random integers. \n",
    "# Add a 1D array of shape (3,) to each row of the 2D array using broadcasting.\n",
    "arr10 = np.random.randint(1,10, size=(3,3))\n",
    "row_array = np.random.randint(1, 11, size=(3,))\n",
    "\n",
    "arr11 = arr10 + row_array\n",
    "print(arr11)"
   ]
  },
  {
   "cell_type": "code",
   "execution_count": null,
   "id": "259e04fb-e1a7-455c-a63b-c2f958b40941",
   "metadata": {},
   "outputs": [],
   "source": []
  }
 ],
 "metadata": {
  "kernelspec": {
   "display_name": "Python 3 (ipykernel)",
   "language": "python",
   "name": "python3"
  },
  "language_info": {
   "codemirror_mode": {
    "name": "ipython",
    "version": 3
   },
   "file_extension": ".py",
   "mimetype": "text/x-python",
   "name": "python",
   "nbconvert_exporter": "python",
   "pygments_lexer": "ipython3",
   "version": "3.10.10"
  }
 },
 "nbformat": 4,
 "nbformat_minor": 5
}
